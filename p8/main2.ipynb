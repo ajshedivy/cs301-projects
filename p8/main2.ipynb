{
 "cells": [
  {
   "cell_type": "code",
   "execution_count": 1,
   "metadata": {},
   "outputs": [],
   "source": [
    "# project: p8\n",
    "# submitter-netid: awelper\n",
    "# partner-netid: ajshedivy"
   ]
  },
  {
   "cell_type": "code",
   "execution_count": null,
   "metadata": {},
   "outputs": [],
   "source": []
  },
  {
   "cell_type": "code",
   "execution_count": 2,
   "metadata": {},
   "outputs": [],
   "source": [
    "import csv\n",
    "\n",
    "def get_mapping(path):\n",
    "    mapping_file = open(path, encoding='utf-8')\n",
    "    file_reader = csv.reader(mapping_file)\n",
    "    mapping_data = list(file_reader)\n",
    "    #header = mapping_data[0]\n",
    "    #mapping_data = mapping_data[1:]\n",
    "    maps={}\n",
    "    for row in mapping_data:\n",
    "        ids= row[0]\n",
    "        name= row[-1]\n",
    "        maps[ids]=name\n",
    "    return maps"
   ]
  },
  {
   "cell_type": "code",
   "execution_count": 3,
   "metadata": {},
   "outputs": [
    {
     "data": {
      "text/plain": [
       "{'nm0000131': 'John Cusack',\n",
       " 'nm0000154': 'Mel Gibson',\n",
       " 'nm0000163': 'Dustin Hoffman',\n",
       " 'nm0000418': 'Danny Glover',\n",
       " 'nm0000432': 'Gene Hackman',\n",
       " 'nm0000997': 'Gary Busey',\n",
       " 'nm0001149': 'Richard Donner',\n",
       " 'nm0001219': 'Gary Fleder',\n",
       " 'nm0752751': 'Mitchell Ryan',\n",
       " 'tt0313542': 'Runaway Jury',\n",
       " 'tt0093409': 'Lethal Weapon'}"
      ]
     },
     "execution_count": 3,
     "metadata": {},
     "output_type": "execute_result"
    }
   ],
   "source": [
    "#q1\n",
    "mapping=get_mapping(\"small_mapping.csv\")\n",
    "mapping"
   ]
  },
  {
   "cell_type": "code",
   "execution_count": 4,
   "metadata": {},
   "outputs": [
    {
     "data": {
      "text/plain": [
       "'Runaway Jury'"
      ]
     },
     "execution_count": 4,
     "metadata": {},
     "output_type": "execute_result"
    }
   ],
   "source": [
    "#q2\n",
    "mapping[\"tt0313542\"]"
   ]
  },
  {
   "cell_type": "code",
   "execution_count": 5,
   "metadata": {},
   "outputs": [],
   "source": [
    "def partial_key(mykey):\n",
    "    my_list = []\n",
    "    mykey = str(mykey)\n",
    "    mapping = get_mapping(\"small_mapping.csv\")\n",
    "    for key in mapping:\n",
    "        if mykey in key:\n",
    "            dudes = mapping.get(key)\n",
    "            my_list.append(dudes)\n",
    "    return my_list"
   ]
  },
  {
   "cell_type": "code",
   "execution_count": 6,
   "metadata": {},
   "outputs": [
    {
     "data": {
      "text/plain": [
       "['Runaway Jury', 'Lethal Weapon']"
      ]
     },
     "execution_count": 6,
     "metadata": {},
     "output_type": "execute_result"
    }
   ],
   "source": [
    "#q3\n",
    "partial_key(\"tt\")"
   ]
  },
  {
   "cell_type": "code",
   "execution_count": 7,
   "metadata": {},
   "outputs": [],
   "source": [
    "def partial_val(myname):\n",
    "    my_list = []\n",
    "    k_list = []\n",
    "    myname = str(myname).lower()\n",
    "    mapping = get_mapping(\"small_mapping.csv\")\n",
    "    \n",
    "    for key in mapping:\n",
    "        name=mapping[key]\n",
    "        name=name.lower()\n",
    "        if myname in name:\n",
    "            my_list.append(key)\n",
    "    return my_list"
   ]
  },
  {
   "cell_type": "code",
   "execution_count": 8,
   "metadata": {},
   "outputs": [
    {
     "data": {
      "text/plain": [
       "['nm0000997', 'nm0001219']"
      ]
     },
     "execution_count": 8,
     "metadata": {},
     "output_type": "execute_result"
    }
   ],
   "source": [
    "#q4\n",
    "partial_val(\"gary\")"
   ]
  },
  {
   "cell_type": "code",
   "execution_count": 9,
   "metadata": {},
   "outputs": [],
   "source": [
    "def get_raw_movies(path):\n",
    "    movies_file = open(path, encoding='utf-8')\n",
    "    file_reader = csv.reader(movies_file)\n",
    "    movies_data = list(file_reader)\n",
    "    header = movies_data[0]\n",
    "    movies_data = movies_data[1:]\n",
    "    movies=[]\n",
    "    for val in movies_data:\n",
    "        movie={}\n",
    "        movie[\"title\"]=val[header.index(\"title\")]\n",
    "        movie[\"year\"]=int(val[header.index(\"year\")])\n",
    "        movie[\"rating\"]=float(val[header.index(\"rating\")])\n",
    "        directors=[]\n",
    "        director= val[header.index(\"directors\")]\n",
    "        directors.append(director)\n",
    "        movie[\"directors\"]=directors\n",
    "        actor=str(val[header.index(\"actors\")])\n",
    "        actor= actor.split(\",\")\n",
    "        movie[\"actors\"]=actor\n",
    "        genre=str(val[header.index(\"genres\")])\n",
    "        genre= genre.split(\",\")\n",
    "        movie[\"genres\"]=genre\n",
    "        movies.append(movie)\n",
    "    return movies"
   ]
  },
  {
   "cell_type": "code",
   "execution_count": 10,
   "metadata": {},
   "outputs": [
    {
     "data": {
      "text/plain": [
       "[{'title': 'tt0313542',\n",
       "  'year': 2003,\n",
       "  'rating': 7.1,\n",
       "  'directors': ['nm0001219'],\n",
       "  'actors': ['nm0000131', 'nm0000432', 'nm0000163'],\n",
       "  'genres': ['Crime', 'Drama', 'Thriller']},\n",
       " {'title': 'tt0093409',\n",
       "  'year': 1987,\n",
       "  'rating': 7.6,\n",
       "  'directors': ['nm0001149'],\n",
       "  'actors': ['nm0000154', 'nm0000418', 'nm0000997', 'nm0752751'],\n",
       "  'genres': ['Action', 'Crime', 'Thriller']}]"
      ]
     },
     "execution_count": 10,
     "metadata": {},
     "output_type": "execute_result"
    }
   ],
   "source": [
    "#q5\n",
    "movies_list= get_raw_movies(\"small_movies.csv\")\n",
    "movies_list"
   ]
  },
  {
   "cell_type": "code",
   "execution_count": 11,
   "metadata": {},
   "outputs": [],
   "source": [
    "def get_genre(idx):\n",
    "    movie=movies_list[idx]\n",
    "    genre=movie[\"genres\"]\n",
    "    return len(genre)"
   ]
  },
  {
   "cell_type": "code",
   "execution_count": 12,
   "metadata": {},
   "outputs": [
    {
     "data": {
      "text/plain": [
       "3"
      ]
     },
     "execution_count": 12,
     "metadata": {},
     "output_type": "execute_result"
    }
   ],
   "source": [
    "#q6\n",
    "get_genre(0)"
   ]
  },
  {
   "cell_type": "code",
   "execution_count": 13,
   "metadata": {},
   "outputs": [],
   "source": [
    "def last_actor(idx):\n",
    "    ilist = movies_list[idx]\n",
    "    actor = ilist[\"actors\"]\n",
    "    last_actor = actor[-1]\n",
    "    return last_actor "
   ]
  },
  {
   "cell_type": "code",
   "execution_count": 14,
   "metadata": {},
   "outputs": [
    {
     "data": {
      "text/plain": [
       "'nm0752751'"
      ]
     },
     "execution_count": 14,
     "metadata": {},
     "output_type": "execute_result"
    }
   ],
   "source": [
    "#7\n",
    "last_actor(1)"
   ]
  },
  {
   "cell_type": "code",
   "execution_count": 59,
   "metadata": {},
   "outputs": [],
   "source": [
    "from collections import namedtuple\n",
    "def get_movies(movies_path, mapping_path):\n",
    "    new_alist = []\n",
    "    movies_list = get_raw_movies(movies_path) # list of raw movies data (as dicts)\n",
    "    map_dict = get_mapping(mapping_path)     # dict that maps ids to name\n",
    "   # id_tuple = namedtuple(\"names\", map_dict.keys())(*map_dict.values())\n",
    "   # print(id_tuple)\n",
    "    for idx in range(len(movies_list)):\n",
    "        ids = movies_list[idx][\"actors\"]\n",
    "        new_alist.append(ids)\n",
    "        print(new_alist)\n",
    "      \n",
    "   \n",
    "    \n",
    "   "
   ]
  },
  {
   "cell_type": "code",
   "execution_count": 60,
   "metadata": {},
   "outputs": [
    {
     "name": "stdout",
     "output_type": "stream",
     "text": [
      "[['nm0000131', 'nm0000432', 'nm0000163']]\n",
      "[['nm0000131', 'nm0000432', 'nm0000163'], ['nm0000154', 'nm0000418', 'nm0000997', 'nm0752751']]\n"
     ]
    }
   ],
   "source": [
    "get_movies(\"small_movies.csv\", \"small_mapping.csv\")"
   ]
  },
  {
   "cell_type": "code",
   "execution_count": 27,
   "metadata": {},
   "outputs": [
    {
     "ename": "NameError",
     "evalue": "name 'new_data' is not defined",
     "output_type": "error",
     "traceback": [
      "\u001b[1;31m---------------------------------------------------------------------------\u001b[0m",
      "\u001b[1;31mNameError\u001b[0m                                 Traceback (most recent call last)",
      "\u001b[1;32m<ipython-input-27-1bc2632a425b>\u001b[0m in \u001b[0;36m<module>\u001b[1;34m\u001b[0m\n\u001b[1;32m----> 1\u001b[1;33m \u001b[0mnew_data\u001b[0m\u001b[1;33m(\u001b[0m\u001b[1;33m)\u001b[0m\u001b[1;33m\u001b[0m\u001b[1;33m\u001b[0m\u001b[0m\n\u001b[0m",
      "\u001b[1;31mNameError\u001b[0m: name 'new_data' is not defined"
     ]
    }
   ],
   "source": [
    "new_data()"
   ]
  },
  {
   "cell_type": "code",
   "execution_count": null,
   "metadata": {},
   "outputs": [],
   "source": []
  }
 ],
 "metadata": {
  "kernelspec": {
   "display_name": "Python 3",
   "language": "python",
   "name": "python3"
  },
  "language_info": {
   "codemirror_mode": {
    "name": "ipython",
    "version": 3
   },
   "file_extension": ".py",
   "mimetype": "text/x-python",
   "name": "python",
   "nbconvert_exporter": "python",
   "pygments_lexer": "ipython3",
   "version": "3.7.2"
  }
 },
 "nbformat": 4,
 "nbformat_minor": 2
}
