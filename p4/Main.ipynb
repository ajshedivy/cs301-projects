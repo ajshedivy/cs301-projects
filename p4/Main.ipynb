{
 "cells": [
  {
   "cell_type": "code",
   "execution_count": 1,
   "metadata": {},
   "outputs": [],
   "source": [
    "# project: p4\n",
    "# submitter-netid: awelper\n",
    "# partner-netid: ajshedivy"
   ]
  },
  {
   "cell_type": "code",
   "execution_count": 10,
   "metadata": {},
   "outputs": [],
   "source": [
    "def Q1():\n",
    "    print(\"What is the type of the following? 1.0 + 2.0\")\n",
    "    print(\"a) int\")\n",
    "    print(\"b) float\")\n",
    "    print(\"c) str\")\n",
    "    print(\"d) bool\")\n",
    "    print(\"e) NoneType\")\n",
    "    answer1=input(\"Your answer: \")\n",
    "    answer1 = str(answer1)\n",
    "    answer1=str.lower(answer1)\n",
    "    answer1=str.strip(answer1)"
   ]
  },
  {
   "cell_type": "code",
   "execution_count": 3,
   "metadata": {},
   "outputs": [
    {
     "name": "stdout",
     "output_type": "stream",
     "text": [
      "What is the type of the following? 1.0 + 2.0\n",
      "a) int\n",
      "b) float\n",
      "c) str\n",
      "d) bool\n",
      "e) NoneType\n",
      "Your answer: 2\n"
     ]
    }
   ],
   "source": [
    "Q1()"
   ]
  },
  {
   "cell_type": "code",
   "execution_count": 4,
   "metadata": {},
   "outputs": [],
   "source": [
    "def Q2():\n",
    "    print(\"What is the type of the following?\")\n",
    "    print(\"1 * 2\")\n",
    "    answer2=input(\"enter answer: \")\n",
    "    answer2=str.lower(answer2)\n",
    "    answer2=str.strip(answer2)"
   ]
  },
  {
   "cell_type": "code",
   "execution_count": 5,
   "metadata": {},
   "outputs": [
    {
     "name": "stdout",
     "output_type": "stream",
     "text": [
      "What is the type of the following?\n",
      "1 * 2\n",
      "enter answer: 2\n"
     ]
    }
   ],
   "source": [
    "Q2()"
   ]
  },
  {
   "cell_type": "code",
   "execution_count": 6,
   "metadata": {},
   "outputs": [],
   "source": [
    "def ask_questions(answer, hint):\n",
    "    w=input(\"How many tries do you want for each question: \")\n",
    "    w=int(w)\n",
    "    while w>0:    \n",
    "        Q1(answer=\"b\", hint=\"Check the textbook\") \n",
    "        Q2(answer=\"int\", hint=\"notice the quotes!\")\n",
    "        Q3(answer=\"true\", hint=\"Calcuate the right side first. Don't forget != means not equal to.\")\n",
    "        w-=1\n",
    "        if x==answer:\n",
    "            return print(\"Congratulations ! You got it right.\")\n",
    "        elif w==1:\n",
    "            print(hint)\n",
    "        else:\n",
    "            print(\"Sorry your answer was incorrect.\")\n",
    "            print(\"You have this many remaining tries: \" + w)"
   ]
  },
  {
   "cell_type": "code",
   "execution_count": 7,
   "metadata": {},
   "outputs": [
    {
     "ename": "NameError",
     "evalue": "name 'answer' is not defined",
     "output_type": "error",
     "traceback": [
      "\u001b[1;31m---------------------------------------------------------------------------\u001b[0m",
      "\u001b[1;31mNameError\u001b[0m                                 Traceback (most recent call last)",
      "\u001b[1;32m<ipython-input-7-a44d1859c3de>\u001b[0m in \u001b[0;36m<module>\u001b[1;34m\u001b[0m\n\u001b[1;32m----> 1\u001b[1;33m \u001b[0mask_questions\u001b[0m\u001b[1;33m(\u001b[0m\u001b[0manswer\u001b[0m\u001b[1;33m,\u001b[0m \u001b[0mhint\u001b[0m\u001b[1;33m)\u001b[0m\u001b[1;33m\u001b[0m\u001b[1;33m\u001b[0m\u001b[0m\n\u001b[0m",
      "\u001b[1;31mNameError\u001b[0m: name 'answer' is not defined"
     ]
    }
   ],
   "source": [
    "ask_questions(answer, hint)"
   ]
  },
  {
   "cell_type": "code",
   "execution_count": null,
   "metadata": {},
   "outputs": [],
   "source": [
    "def Q3():\n",
    "    print(\"What does this expression evaluate to?\")\n",
    "    print(\"True != (3 < 2)\")\n",
    "    answer3= \"true\"\n",
    "    answer3= input(\"enter answer: \")\n",
    "    answer3=str.lower(answer3)\n",
    "    answer3=str.strip(answer3)\n",
    "    \n",
    "      "
   ]
  },
  {
   "cell_type": "code",
   "execution_count": null,
   "metadata": {},
   "outputs": [],
   "source": [
    "Q3()\n"
   ]
  },
  {
   "cell_type": "code",
   "execution_count": null,
   "metadata": {},
   "outputs": [],
   "source": [
    "def ask_questions1():\n",
    "    w=input(\"How many tries do you want for each question: \")\n",
    "    w=int(w)\n",
    "    while w>0:\n",
    "# Q1        \n",
    "        print(\"What is the type of the following? 1.0 + 2.0\")\n",
    "        print(\"a) int\")\n",
    "        print(\"b) float\")\n",
    "        print(\"c) str\")\n",
    "        print(\"d) bool\")\n",
    "        print(\"e) NoneType\")\n",
    "        answer=input(\"Your answer: \")\n",
    "        answer=str.lower(answer)\n",
    "        answer=str.strip(answer)\n",
    "        if answer == \"b\":\n",
    "            return print(\"correct\")\n",
    "            continue \n",
    "        elif answer != \"b\":\n",
    "            w -= 1\n",
    "            print(w)\n",
    "        elif w==1:\n",
    "            print(hint)\n",
    "        else:\n",
    "            print(\"Sorry your answer was incorrect.\")\n",
    "            print(\"You have this many remaining tries: \" + w)\n",
    "# Q2\n",
    "        print(\"What is the type of the following?\")\n",
    "        print(\"1 * 2\")\n",
    "        answer=input(\"enter answer: \")\n",
    "        answer=str.lower(answer)\n",
    "        answer=str.strip(answer)\n",
    "            \n",
    "            \n",
    "    "
   ]
  },
  {
   "cell_type": "code",
   "execution_count": null,
   "metadata": {},
   "outputs": [],
   "source": [
    "ask_questions1()\n"
   ]
  },
  {
   "cell_type": "code",
   "execution_count": null,
   "metadata": {},
   "outputs": [],
   "source": [
    "def ask_questions2():\n",
    "    w=input(\"How many tries do you want for each question: \")\n",
    "    w=int(w)\n",
    "    while w>0:    \n",
    "        print(\"What is the type of the following? 1.0 + 2.0\") # Q1\n",
    "        print(\"a) int\")\n",
    "        print(\"b) float\")\n",
    "        print(\"c) str\")\n",
    "        print(\"d) bool\")\n",
    "        print(\"e) NoneType\")\n",
    "        answer=input(\"Your answer: \")\n",
    "        answer=str.lower(answer)\n",
    "        answer=str.strip(answer) \n",
    "        if answer == \"b\":\n",
    "            return print(\"correct\")\n",
    "            continue \n",
    "        elif answer != \"b\":\n",
    "            w -= 1\n",
    "            print(w)\n",
    "        elif w==1:\n",
    "            print(hint)\n",
    "        else:\n",
    "            print(\"Sorry your answer was incorrect.\")\n",
    "            print(\"You have this many remaining tries: \" + w)\n",
    "        print(\"What is the type of the following?\") # Q2\n",
    "        print(\"1 * 2\")\n",
    "        answer=input(\"enter answer: \")\n",
    "        answer=str.lower(answer)\n",
    "        answer=str.strip(answer)  \n",
    "        if answer == \"int\":\n",
    "            return print(\"correct\")\n",
    "            continue \n",
    "        elif answer != \"int\":\n",
    "            w -= 1\n",
    "            print(w)\n",
    "        elif w==1:\n",
    "            print(hint)\n",
    "        else:\n",
    "            print(\"Sorry your answer was incorrect.\")\n",
    "            print(\"You have this many remaining tries: \" + w)\n",
    "        print(\"What does this expression evaluate to?\") # Q3\n",
    "        print(\"True != (3 < 2)\")\n",
    "        answer = \"true\"\n",
    "        answer = input(\"enter answer: \")\n",
    "        answer=str.lower(answer)\n",
    "        answer=str.strip(answer) \n",
    "        if answer == \"true\":\n",
    "            return print(\"correct\")\n",
    "            continue \n",
    "        elif answer != \"true\":\n",
    "            w -= 1\n",
    "            print(w)\n",
    "        elif w==1:\n",
    "            print(hint)\n",
    "        else:\n",
    "            print(\"Sorry your answer was incorrect.\")\n",
    "            print(\"You have this many remaining tries: \" + w)\n",
    "                \n",
    "\n",
    "        \n",
    "        \n",
    "     "
   ]
  },
  {
   "cell_type": "code",
   "execution_count": null,
   "metadata": {},
   "outputs": [],
   "source": [
    "ask_questions2()\n"
   ]
  },
  {
   "cell_type": "code",
   "execution_count": null,
   "metadata": {},
   "outputs": [],
   "source": [
    "def ask_questions3():\n",
    "    w=input(\"How many tries do you want for each question: \")\n",
    "    w=int(w)\n",
    "    hint = \"check adam\"\n",
    "    while w>0:    \n",
    "        print(\"What is the type of the following? 1.0 + 2.0\") # Q1\n",
    "        print(\"a) int\")\n",
    "        print(\"b) float\")\n",
    "        print(\"c) str\")\n",
    "        print(\"d) bool\")\n",
    "        print(\"e) NoneType\")\n",
    "        answer1=input(\"Your answer: \")\n",
    "        answer1=str.lower(answer1)\n",
    "        answer1=str.strip(answer1) \n",
    "        if answer1 == \"b\":\n",
    "            print(\"correct\") \n",
    "        elif answer1 != \"b\":\n",
    "            w -= 1\n",
    "            print(w)\n",
    "            print(\"What is the type of the following? 1.0 + 2.0\") # Q1\n",
    "            print(\"a) int\")\n",
    "            print(\"b) float\")\n",
    "            print(\"c) str\")\n",
    "            print(\"d) bool\")\n",
    "            print(\"e) NoneType\")\n",
    "            answer1=input(\"Your answer: \")\n",
    "            answer1=str.lower(answer1)\n",
    "            answer1=str.strip(answer1) \n",
    "        elif w==1:\n",
    "            print(hint)\n",
    "        else:\n",
    "            print(\"Sorry your answer was incorrect.\")\n",
    "            print(\"You have this many remaining tries: \" + w)\n",
    "       \n",
    "        print(\"What is the type of the following?\") # Q2\n",
    "        print(\"1 * 2\")\n",
    "        answer2=input(\"enter answer: \")\n",
    "        answer2=str.lower(answer2)\n",
    "        answer2=str.strip(answer2)  \n",
    "        if answer2 == \"int\":\n",
    "            print(\"correct\")\n",
    "        elif answer2 != \"int\":\n",
    "            w -= 1\n",
    "            print(w)\n",
    "            print(\"What is the type of the following?\") # Q2\n",
    "            print(\"1 * 2\")\n",
    "            answer2=input(\"enter answer: \")\n",
    "            answer2=str.lower(answer2)\n",
    "            answer2=str.strip(answer2) \n",
    "        elif w == 1:\n",
    "            print(hint)\n",
    "        else:\n",
    "            print(\"Sorry your answer was incorrect.\")\n",
    "            print(\"You have this many remaining tries: \" + w)\n",
    "       \n",
    "        print(\"What does this expression evaluate to?\") # Q3\n",
    "        print(\"True != (3 < 2)\")\n",
    "        answer3 = \"true\"\n",
    "        answer3 = input(\"enter answer: \")\n",
    "        answer3=str.lower(answer3)\n",
    "        answer3=str.strip(answer3) \n",
    "        if answer3 == \"true\":\n",
    "            print(\"correct\")\n",
    "        elif answer3 != \"true\":\n",
    "            w -=1 \n",
    "            print(w)\n",
    "            print(\"What does this expression evaluate to?\") # Q3\n",
    "            print(\"True != (3 < 2)\")\n",
    "            answer3 = \"true\"\n",
    "            answer3 = input(\"enter answer: \")\n",
    "            answer3=str.lower(answer3)\n",
    "            answer3=str.strip(answer3)\n",
    "                        \n",
    "        elif w==1:\n",
    "            print(hint)\n",
    "        else:\n",
    "            print(\"Sorry your answer was incorrect.\")\n",
    "            print(\"You have this many remaining tries: \" + w)\n",
    "            \n",
    "       \n",
    "            \n",
    "                \n"
   ]
  },
  {
   "cell_type": "code",
   "execution_count": null,
   "metadata": {},
   "outputs": [],
   "source": [
    "ask_questions3()\n"
   ]
  },
  {
   "cell_type": "code",
   "execution_count": null,
   "metadata": {},
   "outputs": [],
   "source": [
    "def ask_questions4():\n",
    "    w=input(\"How many tries do you want for each question: \")\n",
    "    w=int(w)\n",
    "    hint = \"check adam\"\n",
    "    while w>0:  \n",
    "        Q1()\n",
    "        if answer1 == \"b\":\n",
    "            print(\"correct\") \n",
    "        elif answer1 != \"b\":\n",
    "            w -= 1\n",
    "            print(w)\n",
    "            print(Q()) \n",
    "        elif w==1:\n",
    "            print(hint)\n",
    "        else:\n",
    "            print(\"Sorry your answer was incorrect.\")\n",
    "            print(\"You have this many remaining tries: \" + w)\n",
    "       \n",
    "        \n",
    "    \n",
    "\n",
    "\n"
   ]
  },
  {
   "cell_type": "markdown",
   "metadata": {},
   "source": [
    " "
   ]
  },
  {
   "cell_type": "code",
   "execution_count": null,
   "metadata": {},
   "outputs": [],
   "source": [
    "ask_questions4()\n"
   ]
  },
  {
   "cell_type": "code",
   "execution_count": null,
   "metadata": {},
   "outputs": [],
   "source": [
    "def ask_questions5():\n",
    "    w=input(\"How many tries do you want for each question: \")\n",
    "    w=int(w)\n",
    "    hint = \"check adam\"\n",
    "    while w>0:\n",
    "        print(\"1. What is the type of the following? 1.0 + 2.0\") # Q1\n",
    "        print(\"a) int\")\n",
    "        print(\"b) float\")\n",
    "        print(\"c) str\")\n",
    "        print(\"d) bool\")\n",
    "        print(\"e) NoneType\")\n",
    "        print(\"2. What is the type of the following?\") # Q2\n",
    "        print(\"1 * 2\")\n",
    "        print(\"3. What does this expression evaluate to?\") # Q3\n",
    "        print(\"True != (3 < 2)\")\n",
    "        answer1=input(\"Your answer: \")\n",
    "        answer1=str.lower(answer1)\n",
    "        answer1=str.strip(answer1) \n",
    "        answer2=input(\"enter answer: \")\n",
    "        answer2=str.lower(answer2)\n",
    "        answer2=str.strip(answer2)  \n",
    "        answer3 = \"true\"\n",
    "        answer3 = input(\"enter answer: \")\n",
    "        answer3=str.lower(answer3)\n",
    "        answer3=str.strip(answer3)\n",
    "        if answer1 == \"b\":\n",
    "            print(\"correct\")\n",
    "            answer2\n",
    "        elif answer1 != \"b\":\n",
    "            w -= 1\n",
    "            print(\"you have\" + w + \"trys left\")\n",
    "            answer1=input(\"Your answer: \")\n",
    "            answer1=str.lower(answer1)\n",
    "            answer1=str.strip(answer1) \n",
    "        elif w==1:\n",
    "            print(hint)\n",
    "        else:\n",
    "            print(\"Sorry your answer was incorrect.\")\n",
    "            print(\"You have this many remaining tries: \" + w)\n",
    "       \n",
    "        print(\"What is the type of the following?\") # Q2\n",
    "        print(\"1 * 2\")\n",
    "        answer2=input(\"enter answer: \")\n",
    "        answer2=str.lower(answer2)\n",
    "        answer2=str.strip(answer2)  \n",
    "        if answer2 == \"int\":\n",
    "            print(\"correct\")\n",
    "        elif answer2 != \"int\":\n",
    "            w -= 1\n",
    "            print(w)\n",
    "            print(\"What is the type of the following?\") # Q2\n",
    "            print(\"1 * 2\")\n",
    "            answer2=input(\"enter answer: \")\n",
    "            answer2=str.lower(answer2)\n",
    "            answer2=str.strip(answer2) \n",
    "        elif w == 1:\n",
    "            print(hint)\n",
    "        else:\n",
    "            print(\"Sorry your answer was incorrect.\")\n",
    "            print(\"You have this many remaining tries: \" + w)\n",
    "       \n",
    "        print(\"What does this expression evaluate to?\") # Q3\n",
    "        print(\"True != (3 < 2)\")\n",
    "        answer3 = \"true\"\n",
    "        answer3 = input(\"enter answer: \")\n",
    "        answer3=str.lower(answer3)\n",
    "        answer3=str.strip(answer3) \n",
    "        if answer3 == \"true\":\n",
    "            print(\"correct\")\n",
    "        elif answer3 != \"true\":\n",
    "            w -=1 \n",
    "            print(w)\n",
    "            print(\"What does this expression evaluate to?\") # Q3\n",
    "            print(\"True != (3 < 2)\")\n",
    "            answer3 = \"true\"\n",
    "            answer3 = input(\"enter answer: \")\n",
    "            answer3=str.lower(answer3)\n",
    "            answer3=str.strip(answer3)\n",
    "                        \n",
    "        elif w==1:\n",
    "            print(hint)\n",
    "        else:\n",
    "            print(\"Sorry your answer was incorrect.\")\n",
    "            print(\"You have this many remaining tries: \" + w)\n",
    "        "
   ]
  },
  {
   "cell_type": "code",
   "execution_count": null,
   "metadata": {},
   "outputs": [],
   "source": [
    "ask_questions5()"
   ]
  },
  {
   "cell_type": "code",
   "execution_count": 11,
   "metadata": {},
   "outputs": [],
   "source": [
    "def callq():\n",
    "    w=input(\"How many tries do you want for each question: \")\n",
    "    w=int(w)\n",
    "    hint = \"check adam\"\n",
    "    while w>0:\n",
    "        Q1()\n",
    "        if answer1 == \"b\":\n",
    "            print(\"correct\")\n",
    "            continue\n",
    "        elif answer1 != \"b\":\n",
    "            print(\"you have\" + w-1 + \"trys left\")\n",
    "            Q1()\n",
    "        elif w==1:\n",
    "            print(\"bro\")\n",
    "        else:\n",
    "            print(\"Sorry your answer was incorrect.\")\n",
    "            print(\"You have this many remaining tries: \" + w)\n",
    "        \n",
    "    \n",
    "    "
   ]
  },
  {
   "cell_type": "code",
   "execution_count": 12,
   "metadata": {},
   "outputs": [
    {
     "name": "stdout",
     "output_type": "stream",
     "text": [
      "How many tries do you want for each question: 3\n",
      "What is the type of the following? 1.0 + 2.0\n",
      "a) int\n",
      "b) float\n",
      "c) str\n",
      "d) bool\n",
      "e) NoneType\n",
      "Your answer: int\n"
     ]
    },
    {
     "ename": "NameError",
     "evalue": "name 'answer1' is not defined",
     "output_type": "error",
     "traceback": [
      "\u001b[1;31m---------------------------------------------------------------------------\u001b[0m",
      "\u001b[1;31mNameError\u001b[0m                                 Traceback (most recent call last)",
      "\u001b[1;32m<ipython-input-12-0c6639e3e781>\u001b[0m in \u001b[0;36m<module>\u001b[1;34m\u001b[0m\n\u001b[1;32m----> 1\u001b[1;33m \u001b[0mcallq\u001b[0m\u001b[1;33m(\u001b[0m\u001b[1;33m)\u001b[0m\u001b[1;33m\u001b[0m\u001b[1;33m\u001b[0m\u001b[0m\n\u001b[0m",
      "\u001b[1;32m<ipython-input-11-84515979176a>\u001b[0m in \u001b[0;36mcallq\u001b[1;34m()\u001b[0m\n\u001b[0;32m      5\u001b[0m     \u001b[1;32mwhile\u001b[0m \u001b[0mw\u001b[0m\u001b[1;33m>\u001b[0m\u001b[1;36m0\u001b[0m\u001b[1;33m:\u001b[0m\u001b[1;33m\u001b[0m\u001b[1;33m\u001b[0m\u001b[0m\n\u001b[0;32m      6\u001b[0m         \u001b[0mQ1\u001b[0m\u001b[1;33m(\u001b[0m\u001b[1;33m)\u001b[0m\u001b[1;33m\u001b[0m\u001b[1;33m\u001b[0m\u001b[0m\n\u001b[1;32m----> 7\u001b[1;33m         \u001b[1;32mif\u001b[0m \u001b[0manswer1\u001b[0m \u001b[1;33m==\u001b[0m \u001b[1;34m\"b\"\u001b[0m\u001b[1;33m:\u001b[0m\u001b[1;33m\u001b[0m\u001b[1;33m\u001b[0m\u001b[0m\n\u001b[0m\u001b[0;32m      8\u001b[0m             \u001b[0mprint\u001b[0m\u001b[1;33m(\u001b[0m\u001b[1;34m\"correct\"\u001b[0m\u001b[1;33m)\u001b[0m\u001b[1;33m\u001b[0m\u001b[1;33m\u001b[0m\u001b[0m\n\u001b[0;32m      9\u001b[0m             \u001b[1;32mcontinue\u001b[0m\u001b[1;33m\u001b[0m\u001b[1;33m\u001b[0m\u001b[0m\n",
      "\u001b[1;31mNameError\u001b[0m: name 'answer1' is not defined"
     ]
    }
   ],
   "source": [
    "callq()"
   ]
  },
  {
   "cell_type": "code",
   "execution_count": null,
   "metadata": {},
   "outputs": [],
   "source": []
  },
  {
   "cell_type": "markdown",
   "metadata": {},
   "source": []
  },
  {
   "cell_type": "code",
   "execution_count": null,
   "metadata": {},
   "outputs": [],
   "source": [
    "\n"
   ]
  },
  {
   "cell_type": "code",
   "execution_count": null,
   "metadata": {},
   "outputs": [],
   "source": []
  },
  {
   "cell_type": "markdown",
   "metadata": {},
   "source": []
  }
 ],
 "metadata": {
  "kernelspec": {
   "display_name": "Python 3",
   "language": "python",
   "name": "python3"
  },
  "language_info": {
   "codemirror_mode": {
    "name": "ipython",
    "version": 3
   },
   "file_extension": ".py",
   "mimetype": "text/x-python",
   "name": "python",
   "nbconvert_exporter": "python",
   "pygments_lexer": "ipython3",
   "version": "3.7.2"
  }
 },
 "nbformat": 4,
 "nbformat_minor": 2
}
