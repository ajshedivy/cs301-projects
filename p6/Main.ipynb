{
 "cells": [
  {
   "cell_type": "code",
   "execution_count": 1,
   "metadata": {},
   "outputs": [],
   "source": [
    "# project: p6\n",
    "# submitter-netid: awelper\n",
    "# partner-netid: ajshedivy"
   ]
  },
  {
   "cell_type": "code",
   "execution_count": 6,
   "metadata": {},
   "outputs": [],
   "source": [
    "import csv\n",
    "\n",
    "# copied from https://automatetheboringstuff.com/chapter14/\n",
    "def process_csv(filename):\n",
    "    exampleFile = open(filename, encoding=\"utf-8\")\n",
    "    exampleReader = csv.reader(exampleFile)\n",
    "    exampleData = list(exampleReader)\n",
    "    return exampleData\n",
    "\n",
    "# use process_csv to pull out the header and data rows\n",
    "csv_rows = process_csv(\"wine.csv\")\n",
    "csv_header = csv_rows[0]\n",
    "csv_data = csv_rows[1:]"
   ]
  },
  {
   "cell_type": "code",
   "execution_count": 7,
   "metadata": {},
   "outputs": [],
   "source": [
    "def cell(row_idx, col_name):\n",
    "    col_idx = csv_header.index(col_name)\n",
    "    val = csv_data[row_idx][col_idx]\n",
    "    if val == \"\":\n",
    "        return None\n",
    "    if col_name==\"points\":\n",
    "        val= int(val)\n",
    "    elif col_name==\"price\":\n",
    "        val=float(val)\n",
    "    # optional: convert types based on column name?\n",
    "    return val"
   ]
  },
  {
   "cell_type": "code",
   "execution_count": 8,
   "metadata": {},
   "outputs": [
    {
     "ename": "NameError",
     "evalue": "name 'row_idx' is not defined",
     "output_type": "error",
     "traceback": [
      "\u001b[1;31m---------------------------------------------------------------------------\u001b[0m",
      "\u001b[1;31mNameError\u001b[0m                                 Traceback (most recent call last)",
      "\u001b[1;32m<ipython-input-8-d824027bf760>\u001b[0m in \u001b[0;36m<module>\u001b[1;34m\u001b[0m\n\u001b[1;32m----> 1\u001b[1;33m \u001b[0mcell\u001b[0m\u001b[1;33m(\u001b[0m\u001b[0mrow_idx\u001b[0m\u001b[1;33m,\u001b[0m \u001b[1;34m\"points\"\u001b[0m\u001b[1;33m)\u001b[0m\u001b[1;33m\u001b[0m\u001b[1;33m\u001b[0m\u001b[0m\n\u001b[0m",
      "\u001b[1;31mNameError\u001b[0m: name 'row_idx' is not defined"
     ]
    }
   ],
   "source": [
    "cell(row_idx, \"points\")"
   ]
  },
  {
   "cell_type": "code",
   "execution_count": 9,
   "metadata": {},
   "outputs": [],
   "source": [
    "def countries():\n",
    "    clist=[]\n",
    "    row_idx=0\n",
    "    while row_idx < len(csv_data):\n",
    "        country=cell(row_idx, \"country\")\n",
    "        if country==None:\n",
    "            row_idx+=1\n",
    "            continue\n",
    "        else:\n",
    "            clist.append(country)\n",
    "        row_idx+=1\n",
    "    countrylist=list(set(clist))\n",
    "    return countrylist"
   ]
  },
  {
   "cell_type": "code",
   "execution_count": 10,
   "metadata": {},
   "outputs": [
    {
     "data": {
      "text/plain": [
       "['France',\n",
       " 'Portugal',\n",
       " 'Germany',\n",
       " 'Hungary',\n",
       " 'US',\n",
       " 'New Zealand',\n",
       " 'India',\n",
       " 'Moldova',\n",
       " 'Bulgaria',\n",
       " 'South Africa',\n",
       " 'Austria',\n",
       " 'Chile',\n",
       " 'Croatia',\n",
       " 'Canada',\n",
       " 'Greece',\n",
       " 'Romania',\n",
       " 'Slovenia',\n",
       " 'Australia',\n",
       " 'Israel',\n",
       " 'Argentina',\n",
       " 'Spain',\n",
       " 'Italy',\n",
       " 'Morocco']"
      ]
     },
     "execution_count": 10,
     "metadata": {},
     "output_type": "execute_result"
    }
   ],
   "source": [
    "#q1 #india wont show\n",
    "countries()"
   ]
  },
  {
   "cell_type": "code",
   "execution_count": 11,
   "metadata": {},
   "outputs": [],
   "source": [
    "def aveprice():\n",
    "    totalp=0\n",
    "    totalr=0\n",
    "    row_idx=0\n",
    "    while row_idx<len(csv_data):\n",
    "        price=cell(row_idx, \"price\")\n",
    "        if price!=None:\n",
    "            totalp+=price\n",
    "            totalr+=1\n",
    "        row_idx+=1\n",
    "    return totalp/totalr"
   ]
  },
  {
   "cell_type": "code",
   "execution_count": 12,
   "metadata": {},
   "outputs": [
    {
     "data": {
      "text/plain": [
       "39.40787623066104"
      ]
     },
     "execution_count": 12,
     "metadata": {},
     "output_type": "execute_result"
    }
   ],
   "source": [
    "#q2\n",
    "aveprice()"
   ]
  },
  {
   "cell_type": "code",
   "execution_count": 13,
   "metadata": {},
   "outputs": [],
   "source": [
    "def spainvariety():\n",
    "    vlist=[]\n",
    "    var=\"Spain\"\n",
    "    row_idx = 0\n",
    "    while row_idx<len(csv_data):\n",
    "        country=cell(row_idx, \"country\")\n",
    "        if country==var:\n",
    "            varieties=cell(row_idx, \"variety\")\n",
    "            vlist.append(varieties)\n",
    "        row_idx+=1\n",
    "    varietylist=list(set(vlist))\n",
    "    return varietylist"
   ]
  },
  {
   "cell_type": "code",
   "execution_count": 14,
   "metadata": {},
   "outputs": [
    {
     "data": {
      "text/plain": [
       "['Sparkling Blend',\n",
       " 'Mencía',\n",
       " 'Garnacha Blanca',\n",
       " 'Tempranillo Blend',\n",
       " 'Palomino',\n",
       " 'Sherry',\n",
       " 'Tempranillo',\n",
       " 'Albariño',\n",
       " 'Grenache-Syrah',\n",
       " 'Godello',\n",
       " 'Moscatel',\n",
       " 'White Blend',\n",
       " 'Red Blend',\n",
       " 'Monastrell',\n",
       " 'Garnacha',\n",
       " 'Tinta de Toro']"
      ]
     },
     "execution_count": 14,
     "metadata": {},
     "output_type": "execute_result"
    }
   ],
   "source": [
    "#q3\n",
    "spainvariety()"
   ]
  },
  {
   "cell_type": "code",
   "execution_count": 15,
   "metadata": {},
   "outputs": [],
   "source": [
    "def wheresthebeef():\n",
    "    blist=[]\n",
    "    row_idx=0\n",
    "    while row_idx< len(csv_data):\n",
    "        description=cell(row_idx, \"description\")\n",
    "        if 'beef' in description:\n",
    "            blist.append(cell(row_idx, \"winery\"))\n",
    "        row_idx+=1\n",
    "    return blist"
   ]
  },
  {
   "cell_type": "code",
   "execution_count": 16,
   "metadata": {},
   "outputs": [
    {
     "data": {
      "text/plain": [
       "['Château Pégau',\n",
       " 'Hawk Watch Winery',\n",
       " 'Laird',\n",
       " 'MCV',\n",
       " 'Tetra',\n",
       " 'Beronia',\n",
       " 'Adelaida Cellars',\n",
       " 'Palmeri',\n",
       " 'Sevtap',\n",
       " 'Montes',\n",
       " 'Fess Parker',\n",
       " 'Andrew Murray',\n",
       " 'Clos La Chance']"
      ]
     },
     "execution_count": 16,
     "metadata": {},
     "output_type": "execute_result"
    }
   ],
   "source": [
    "#q4\n",
    "wheresthebeef()"
   ]
  },
  {
   "cell_type": "code",
   "execution_count": 17,
   "metadata": {},
   "outputs": [],
   "source": [
    "def how_zesty():\n",
    "    blist=[]\n",
    "    row_idx=0\n",
    "    while row_idx< len(csv_data):\n",
    "        description=cell(row_idx, \"description\")\n",
    "        description=description.lower()\n",
    "        if 'zesty' in description:\n",
    "            blist.append(cell(row_idx, \"winery\"))\n",
    "        row_idx+=1\n",
    "    zestylist=list(set(blist))\n",
    "    return zestylist"
   ]
  },
  {
   "cell_type": "code",
   "execution_count": 18,
   "metadata": {},
   "outputs": [
    {
     "data": {
      "text/plain": [
       "['Byron',\n",
       " 'Domaine Allimant-Laugner',\n",
       " 'Margerum',\n",
       " 'Heron Hill',\n",
       " 'MCV',\n",
       " 'Concha y Toro',\n",
       " 'Bürgermeister Willi Schweinhardt',\n",
       " 'Domaine Collotte',\n",
       " 'Brander',\n",
       " 'Fattoria di Magliano',\n",
       " 'Stephen Ross',\n",
       " 'Dr. H. Thanisch (Erben Thanisch)',\n",
       " 'Sheldrake Point',\n",
       " 'Quinta Nova de Nossa Senhora do Carmo',\n",
       " 'Santa Cruz Mountain Vineyard',\n",
       " 'Domaine Ostertag',\n",
       " 'Benoît Girard']"
      ]
     },
     "execution_count": 18,
     "metadata": {},
     "output_type": "execute_result"
    }
   ],
   "source": [
    "#q5\n",
    "how_zesty()"
   ]
  },
  {
   "cell_type": "code",
   "execution_count": 19,
   "metadata": {},
   "outputs": [],
   "source": [
    "def blackfruitaroma():\n",
    "    blist=[]\n",
    "    row_idx=0\n",
    "    while row_idx< len(csv_data):\n",
    "        description=cell(row_idx, \"description\")\n",
    "        description=description.lower()\n",
    "        if 'black-fruit aroma' in description:\n",
    "            blist.append(cell(row_idx, \"winery\"))\n",
    "        row_idx+=1\n",
    "    return blist"
   ]
  },
  {
   "cell_type": "code",
   "execution_count": 20,
   "metadata": {},
   "outputs": [
    {
     "data": {
      "text/plain": [
       "['Maurodos',\n",
       " 'Bodega Carmen Rodríguez',\n",
       " 'Val de Los Frailes',\n",
       " 'Matarromera',\n",
       " 'Palacio del Burgo']"
      ]
     },
     "execution_count": 20,
     "metadata": {},
     "output_type": "execute_result"
    }
   ],
   "source": [
    "#q6\n",
    "blackfruitaroma()"
   ]
  },
  {
   "cell_type": "code",
   "execution_count": 21,
   "metadata": {},
   "outputs": [],
   "source": [
    "def anagram_wine1(phrase):\n",
    "    vlist=[]\n",
    "    row_idx=0\n",
    "    phrase=phrase.lower()\n",
    "    phrase=sorted(phrase)\n",
    "    while row_idx<len(csv_data):\n",
    "        variety=cell(row_idx, \"variety\")\n",
    "        variety=variety.lower()\n",
    "        variety=sorted(variety)\n",
    "        if variety==phrase:\n",
    "            vlist.append(cell(row_idx, \"variety\"))\n",
    "        row_idx+=1\n",
    "    varietylist=list(set(vlist))\n",
    "    return varietylist"
   ]
  },
  {
   "cell_type": "code",
   "execution_count": 22,
   "metadata": {},
   "outputs": [],
   "source": [
    "def anagram_wine_varieties(phrase):\n",
    "    vlist=[]\n",
    "    row_idx=0\n",
    "    phrase=phrase.lower()\n",
    "    phrase=sorted(phrase)\n",
    "    phrase.remove(\" \" )\n",
    "    while row_idx<len(csv_data):\n",
    "        variety=cell(row_idx, \"variety\")\n",
    "        variety=variety.lower()\n",
    "        variety=sorted(variety)\n",
    "        idx=0\n",
    "        while \" \" ==idx:\n",
    "            del variety[idx]\n",
    "            idx+=1\n",
    "        if variety==phrase:\n",
    "            vlist.append(cell(row_idx, \"variety\"))\n",
    "        row_idx+=1\n",
    "    varietylist=list(set(vlist))\n",
    "    return varietylist"
   ]
  },
  {
   "cell_type": "code",
   "execution_count": 23,
   "metadata": {},
   "outputs": [
    {
     "data": {
      "text/plain": [
       "['Cabernet Sauvignon']"
      ]
     },
     "execution_count": 23,
     "metadata": {},
     "output_type": "execute_result"
    }
   ],
   "source": [
    "#q7\n",
    "anagram_wine1(\"antibus governance\")"
   ]
  },
  {
   "cell_type": "code",
   "execution_count": 24,
   "metadata": {},
   "outputs": [
    {
     "data": {
      "text/plain": [
       "['Tempranillo Blend']"
      ]
     },
     "execution_count": 24,
     "metadata": {},
     "output_type": "execute_result"
    }
   ],
   "source": [
    "#q8\n",
    "anagram_wine_varieties(\"Banned Petrol Mill\")"
   ]
  },
  {
   "cell_type": "code",
   "execution_count": 25,
   "metadata": {},
   "outputs": [],
   "source": [
    "def highest_wine(country):\n",
    "    hlist = []\n",
    "    row_idx = 0\n",
    "    highest = 0\n",
    "    while row_idx<len(csv_data):\n",
    "        country1 = cell(row_idx, \"country\")\n",
    "        if country1 == country:\n",
    "            points = cell(row_idx, \"points\")\n",
    "            if points >= highest:\n",
    "                highest = points \n",
    "            variety=cell(row_idx, \"variety\")\n",
    "            if str(highest) in str(points):\n",
    "                hlist.append(variety)\n",
    "        row_idx+=1\n",
    "    return hlist"
   ]
  },
  {
   "cell_type": "code",
   "execution_count": 26,
   "metadata": {},
   "outputs": [
    {
     "data": {
      "text/plain": [
       "['Cabernet Sauvignon', 'Sauvignon Blanc', 'Pinot Noir']"
      ]
     },
     "execution_count": 26,
     "metadata": {},
     "output_type": "execute_result"
    }
   ],
   "source": [
    "#q9\n",
    "highest_wine(\"US\")"
   ]
  },
  {
   "cell_type": "code",
   "execution_count": 27,
   "metadata": {},
   "outputs": [
    {
     "data": {
      "text/plain": [
       "['Tinta de Toro']"
      ]
     },
     "execution_count": 27,
     "metadata": {},
     "output_type": "execute_result"
    }
   ],
   "source": [
    "#q10\n",
    "highest_wine(\"Spain\")"
   ]
  },
  {
   "cell_type": "code",
   "execution_count": 28,
   "metadata": {},
   "outputs": [],
   "source": [
    "def ppd(winery):\n",
    "    hlist = []\n",
    "    row_idx = 0\n",
    "    total=0\n",
    "    while row_idx<len(csv_data):\n",
    "        winery1 = cell(row_idx, \"winery\")\n",
    "        if winery1==winery:\n",
    "            points=cell(row_idx, \"points\")\n",
    "            price=cell(row_idx, \"price\")\n",
    "            ppd=points/price\n",
    "            hlist.append(ppd)\n",
    "            total+=1\n",
    "        row_idx+=1\n",
    "    list=sum(hlist)\n",
    "    return list/total"
   ]
  },
  {
   "cell_type": "code",
   "execution_count": 29,
   "metadata": {},
   "outputs": [
    {
     "data": {
      "text/plain": [
       "2.183421985815603"
      ]
     },
     "execution_count": 29,
     "metadata": {},
     "output_type": "execute_result"
    }
   ],
   "source": [
    "#q11\n",
    "ppd(\"Heitz\")"
   ]
  },
  {
   "cell_type": "code",
   "execution_count": 30,
   "metadata": {},
   "outputs": [
    {
     "data": {
      "text/plain": [
       "1.288074888074888"
      ]
     },
     "execution_count": 30,
     "metadata": {},
     "output_type": "execute_result"
    }
   ],
   "source": [
    "#q12\n",
    "ppd(\"Ponzi\")"
   ]
  },
  {
   "cell_type": "code",
   "execution_count": 31,
   "metadata": {},
   "outputs": [],
   "source": [
    "def high_ppd(country):\n",
    "    row_idx=0\n",
    "    hlist = []\n",
    "    alist=[]\n",
    "    high_ave=0\n",
    "    ave=0\n",
    "    best_wine=0\n",
    "    while row_idx<len(csv_data):\n",
    "        total=0\n",
    "        country1=cell(row_idx, \"country\")\n",
    "        if country1==country:\n",
    "            points=cell(row_idx, \"points\")\n",
    "            price=cell(row_idx, \"price\")\n",
    "            ppd=points/price\n",
    "            hlist.append(ppd)\n",
    "            total+=1\n",
    "            list=sum(hlist)\n",
    "            ave=list/total\n",
    "            winery=cell(row_idx, \"winery\")\n",
    "            if ave > high_ave:\n",
    "                high_ave = ave\n",
    "                best_wine=winery\n",
    "        row_idx+=1   \n",
    "    return best_wine\n",
    "        "
   ]
  },
  {
   "cell_type": "code",
   "execution_count": 32,
   "metadata": {},
   "outputs": [
    {
     "data": {
      "text/plain": [
       "'Felton Road'"
      ]
     },
     "execution_count": 32,
     "metadata": {},
     "output_type": "execute_result"
    }
   ],
   "source": [
    "#q13\n",
    "high_ppd(\"New Zealand\")"
   ]
  },
  {
   "cell_type": "code",
   "execution_count": 33,
   "metadata": {},
   "outputs": [
    {
     "data": {
      "text/plain": [
       "'Heggies Vineyard'"
      ]
     },
     "execution_count": 33,
     "metadata": {},
     "output_type": "execute_result"
    }
   ],
   "source": [
    "#q14\n",
    "high_ppd(\"Australia\")"
   ]
  },
  {
   "cell_type": "code",
   "execution_count": 34,
   "metadata": {},
   "outputs": [
    {
     "data": {
      "text/plain": [
       "'Burrowing Owl'"
      ]
     },
     "execution_count": 34,
     "metadata": {},
     "output_type": "execute_result"
    }
   ],
   "source": [
    "#q15\n",
    "high_ppd(\"Canada\")"
   ]
  },
  {
   "cell_type": "code",
   "execution_count": 35,
   "metadata": {},
   "outputs": [],
   "source": [
    "def variety_finder(winery):\n",
    "    vlist=[]\n",
    "    \n",
    "    row_idx = 0\n",
    "    while row_idx<len(csv_data):\n",
    "        winery1 =cell(row_idx, \"winery\")\n",
    "        if winery1==winery:\n",
    "            varieties=cell(row_idx, \"variety\")\n",
    "            vlist.append(varieties)\n",
    "        row_idx+=1\n",
    "    varietylist=list(set(vlist))\n",
    "    return varietylist"
   ]
  },
  {
   "cell_type": "code",
   "execution_count": 36,
   "metadata": {},
   "outputs": [
    {
     "data": {
      "text/plain": [
       "['Portuguese Red', 'Portuguese Rosé', 'Portuguese White']"
      ]
     },
     "execution_count": 36,
     "metadata": {},
     "output_type": "execute_result"
    }
   ],
   "source": [
    "#q16\n",
    "variety_finder(\"Quinta Nova de Nossa Senhora do Carmo\")"
   ]
  },
  {
   "cell_type": "code",
   "execution_count": 37,
   "metadata": {},
   "outputs": [
    {
     "data": {
      "text/plain": [
       "['Portuguese Red', 'Portuguese White']"
      ]
     },
     "execution_count": 37,
     "metadata": {},
     "output_type": "execute_result"
    }
   ],
   "source": [
    "#q17\n",
    "variety_finder(\"Adega Cooperativa de Borba\")"
   ]
  },
  {
   "cell_type": "code",
   "execution_count": 38,
   "metadata": {},
   "outputs": [
    {
     "data": {
      "text/plain": [
       "['Portuguese Red', 'Portuguese Sparkling', 'Touriga Nacional']"
      ]
     },
     "execution_count": 38,
     "metadata": {},
     "output_type": "execute_result"
    }
   ],
   "source": [
    "#q18\n",
    "variety_finder(\"Global Wines\")"
   ]
  },
  {
   "cell_type": "code",
   "execution_count": 39,
   "metadata": {},
   "outputs": [],
   "source": [
    "def variety_comp(winery1, winery2):\n",
    "    overlap=0\n",
    "    total=0\n",
    "    variety1=set(variety_finder(winery1))\n",
    "    variety2=set(variety_finder(winery2))\n",
    "    for i in variety1:\n",
    "        if i in variety2:\n",
    "            overlap+=1\n",
    "        total+=1\n",
    "\n",
    "    return (overlap)/(total)*100"
   ]
  },
  {
   "cell_type": "code",
   "execution_count": 40,
   "metadata": {},
   "outputs": [
    {
     "data": {
      "text/plain": [
       "66.66666666666666"
      ]
     },
     "execution_count": 40,
     "metadata": {},
     "output_type": "execute_result"
    }
   ],
   "source": [
    "#q19\n",
    "variety_comp(\"Quinta Nova de Nossa Senhora do Carmo\", \"Adega Cooperativa de Borba\")"
   ]
  },
  {
   "cell_type": "code",
   "execution_count": 41,
   "metadata": {},
   "outputs": [
    {
     "data": {
      "text/plain": [
       "33.33333333333333"
      ]
     },
     "execution_count": 41,
     "metadata": {},
     "output_type": "execute_result"
    }
   ],
   "source": [
    "#q20\n",
    "variety_comp(\"Global Wines\", \"Quinta Nova de Nossa Senhora do Carmo\")\n"
   ]
  },
  {
   "cell_type": "code",
   "execution_count": null,
   "metadata": {},
   "outputs": [],
   "source": []
  },
  {
   "cell_type": "code",
   "execution_count": null,
   "metadata": {},
   "outputs": [],
   "source": []
  }
 ],
 "metadata": {
  "kernelspec": {
   "display_name": "Python 3",
   "language": "python",
   "name": "python3"
  },
  "language_info": {
   "codemirror_mode": {
    "name": "ipython",
    "version": 3
   },
   "file_extension": ".py",
   "mimetype": "text/x-python",
   "name": "python",
   "nbconvert_exporter": "python",
   "pygments_lexer": "ipython3",
   "version": "3.7.2"
  }
 },
 "nbformat": 4,
 "nbformat_minor": 2
}
