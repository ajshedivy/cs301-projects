{
 "cells": [
  {
   "cell_type": "code",
   "execution_count": 1,
   "metadata": {},
   "outputs": [],
   "source": [
    "# project: p9\n",
    "# submitter-netid: ajshedivy\n",
    "# partner-netid: awelper"
   ]
  },
  {
   "cell_type": "code",
   "execution_count": 2,
   "metadata": {},
   "outputs": [],
   "source": [
    "import os, csv, json"
   ]
  },
  {
   "cell_type": "code",
   "execution_count": 3,
   "metadata": {},
   "outputs": [
    {
     "data": {
      "text/plain": [
       "['2.json', '2.csv', '1.json', '1.csv']"
      ]
     },
     "execution_count": 3,
     "metadata": {},
     "output_type": "execute_result"
    }
   ],
   "source": [
    "#q1\n",
    "lists=os.listdir(\"sample_data\")\n",
    "slist= sorted(lists, reverse=True)\n",
    "slist"
   ]
  },
  {
   "cell_type": "code",
   "execution_count": 4,
   "metadata": {},
   "outputs": [
    {
     "data": {
      "text/plain": [
       "['sample_data\\\\2.json',\n",
       " 'sample_data\\\\2.csv',\n",
       " 'sample_data\\\\1.json',\n",
       " 'sample_data\\\\1.csv']"
      ]
     },
     "execution_count": 4,
     "metadata": {},
     "output_type": "execute_result"
    }
   ],
   "source": [
    "#q2\n",
    "paths=[]\n",
    "for file in slist:\n",
    "    paths.append(os.path.join(\"sample_data\", file))\n",
    "    \n",
    "paths"
   ]
  },
  {
   "cell_type": "code",
   "execution_count": 5,
   "metadata": {},
   "outputs": [
    {
     "data": {
      "text/plain": [
       "['full_data\\\\meta.info',\n",
       " 'full_data\\\\agency_info',\n",
       " 'full_data\\\\5.json',\n",
       " 'full_data\\\\5.csv',\n",
       " 'full_data\\\\4.json',\n",
       " 'full_data\\\\4.csv',\n",
       " 'full_data\\\\3.json',\n",
       " 'full_data\\\\3.csv',\n",
       " 'full_data\\\\2.json',\n",
       " 'full_data\\\\2.csv',\n",
       " 'full_data\\\\1.json',\n",
       " 'full_data\\\\1.csv']"
      ]
     },
     "execution_count": 5,
     "metadata": {},
     "output_type": "execute_result"
    }
   ],
   "source": [
    "#q3 \n",
    "lists=os.listdir(\"full_data\")\n",
    "flist=sorted(lists, reverse=True)\n",
    "paths=[]\n",
    "for file in flist:\n",
    "    paths.append(os.path.join(\"full_data\", file))\n",
    "paths"
   ]
  },
  {
   "cell_type": "code",
   "execution_count": 6,
   "metadata": {},
   "outputs": [
    {
     "data": {
      "text/plain": [
       "['sample_data\\\\2.json',\n",
       " 'sample_data\\\\2.csv',\n",
       " 'sample_data\\\\1.json',\n",
       " 'sample_data\\\\1.csv']"
      ]
     },
     "execution_count": 6,
     "metadata": {},
     "output_type": "execute_result"
    }
   ],
   "source": [
    "#q4\n",
    "paths=[]\n",
    "for file in slist:\n",
    "    if file.endswith(\".csv\"):\n",
    "        paths.append(os.path.join(\"sample_data\", file))\n",
    "    elif file.endswith(\".json\"):\n",
    "        paths.append(os.path.join(\"sample_data\", file))\n",
    "    else:\n",
    "        pass\n",
    "paths"
   ]
  },
  {
   "cell_type": "code",
   "execution_count": 7,
   "metadata": {},
   "outputs": [
    {
     "data": {
      "text/plain": [
       "['full_data\\\\5.json',\n",
       " 'full_data\\\\5.csv',\n",
       " 'full_data\\\\4.json',\n",
       " 'full_data\\\\4.csv',\n",
       " 'full_data\\\\3.json',\n",
       " 'full_data\\\\3.csv',\n",
       " 'full_data\\\\2.json',\n",
       " 'full_data\\\\2.csv',\n",
       " 'full_data\\\\1.json',\n",
       " 'full_data\\\\1.csv']"
      ]
     },
     "execution_count": 7,
     "metadata": {},
     "output_type": "execute_result"
    }
   ],
   "source": [
    "#q5 \n",
    "lists=os.listdir(\"full_data\")\n",
    "flist=sorted(lists, reverse=True)\n",
    "paths=[]\n",
    "for file in flist:\n",
    "    if file.endswith(\".csv\"):\n",
    "        paths.append(os.path.join(\"full_data\", file))\n",
    "    elif file.endswith(\".json\"):\n",
    "        paths.append(os.path.join(\"full_data\", file))\n",
    "    else:\n",
    "        pass\n",
    "paths"
   ]
  },
  {
   "cell_type": "code",
   "execution_count": 8,
   "metadata": {},
   "outputs": [
    {
     "data": {
      "text/plain": [
       "Tweet(tweet_id='id123', username='user456', num_liked=100, length=140)"
      ]
     },
     "execution_count": 8,
     "metadata": {},
     "output_type": "execute_result"
    }
   ],
   "source": [
    "from collections import namedtuple\n",
    "Tweet = namedtuple(\"Tweet\", [\"tweet_id\", \"username\", \"num_liked\", \"length\"])\n",
    "t= Tweet(\"id123\", \"user456\", 100, 140)\n",
    "t"
   ]
  },
  {
   "cell_type": "code",
   "execution_count": 9,
   "metadata": {},
   "outputs": [],
   "source": [
    "def csv_to_list(path):\n",
    "    tweetsopen=open(path, encoding=\"utf-8\")\n",
    "    tweetsread=csv.reader(tweetsopen)\n",
    "    tweetsdata=list(tweetsread)\n",
    "    header=tweetsdata[0]\n",
    "    tweets=tweetsdata[1:]\n",
    "    tlist=[]\n",
    "    for tweet in tweets:\n",
    "        try:\n",
    "            tweet_id=str(tweet[header.index(\"tweet_id\")])\n",
    "            username=str(tweet[header.index(\"username\")])\n",
    "            try:\n",
    "                num_liked=int(tweet[header.index(\"num_liked\")])\n",
    "            except:\n",
    "                if num_liked.endswith(\"M\"):\n",
    "                    num_liked=num_liked.replace(\"M\", \"\")\n",
    "                    num_liked=int(num_liked)*1000000\n",
    "                elif num_liked.endswith(\"K\"):\n",
    "                    num_liked=num_liked.lower()\n",
    "                    num_liked=num_liked.replace(\"k\", \"\")\n",
    "                    num_liked=int(num_liked)*1000\n",
    "            length=int(len(tweet[header.index(\"tweet_text\")]))\n",
    "            tlist.append(Tweet(tweet_id, username, num_liked, length))\n",
    "        except:\n",
    "            pass\n",
    "    return tlist\n"
   ]
  },
  {
   "cell_type": "code",
   "execution_count": 10,
   "metadata": {},
   "outputs": [
    {
     "data": {
      "text/plain": [
       "[Tweet(tweet_id='1467811372', username='USERID_6', num_liked=5882, length=29),\n",
       " Tweet(tweet_id='1467811592', username='USERID_8', num_liked=2676, length=11),\n",
       " Tweet(tweet_id='1467811594', username='USERID_9', num_liked=2182, length=99),\n",
       " Tweet(tweet_id='1467811795', username='USERID_1', num_liked=7791, length=36),\n",
       " Tweet(tweet_id='1467812025', username='USERID_1', num_liked=8149, length=25)]"
      ]
     },
     "execution_count": 10,
     "metadata": {},
     "output_type": "execute_result"
    }
   ],
   "source": [
    "#q6\n",
    "csv_to_list('sample_data\\\\1.csv')"
   ]
  },
  {
   "cell_type": "code",
   "execution_count": 11,
   "metadata": {},
   "outputs": [
    {
     "data": {
      "text/plain": [
       "[Tweet(tweet_id='1467812799', username='USERID_7', num_liked=3340, length=103),\n",
       " Tweet(tweet_id='1467812964', username='USERID_10', num_liked=3684, length=93),\n",
       " Tweet(tweet_id='1467813137', username='USERID_5', num_liked=6816, length=20),\n",
       " Tweet(tweet_id='1467813579', username='USERID_1', num_liked=1348, length=64),\n",
       " Tweet(tweet_id='1467813782', username='USERID_1', num_liked=4770, length=79)]"
      ]
     },
     "execution_count": 11,
     "metadata": {},
     "output_type": "execute_result"
    }
   ],
   "source": [
    "#q7\n",
    "csv_to_list('sample_data\\\\2.csv')"
   ]
  },
  {
   "cell_type": "code",
   "execution_count": 12,
   "metadata": {},
   "outputs": [
    {
     "data": {
      "text/plain": [
       "[Tweet(tweet_id='1467844540', username='USERID_9', num_liked=6366, length=49),\n",
       " Tweet(tweet_id='1467844907', username='USERID_3', num_liked=8770, length=42),\n",
       " Tweet(tweet_id='1467845095', username='USERID_4', num_liked=8567, length=126),\n",
       " Tweet(tweet_id='1467845157', username='USERID_8', num_liked=5761, length=17),\n",
       " Tweet(tweet_id='1467852031', username='USERID_2', num_liked=4565, length=63),\n",
       " Tweet(tweet_id='1467852067', username='USERID_4', num_liked=9594, length=34),\n",
       " Tweet(tweet_id='1467852789', username='USERID_10', num_liked=686, length=44),\n",
       " Tweet(tweet_id='1467853135', username='USERID_1', num_liked=6515, length=131),\n",
       " Tweet(tweet_id='1467853356', username='USERID_10', num_liked=3192, length=136),\n",
       " Tweet(tweet_id='1467853431', username='USERID_10', num_liked=9936, length=30),\n",
       " Tweet(tweet_id='1467853479', username='USERID_9', num_liked=4939, length=24),\n",
       " Tweet(tweet_id='1467854062', username='USERID_10', num_liked=9346, length=92),\n",
       " Tweet(tweet_id='1467854345', username='USERID_9', num_liked=7959, length=72),\n",
       " Tweet(tweet_id='1467854706', username='USERID_1', num_liked=8972, length=103),\n",
       " Tweet(tweet_id='1467854917', username='USERID_2', num_liked=7741, length=30),\n",
       " Tweet(tweet_id='1467855673', username='USERID_9', num_liked=9728, length=72),\n",
       " Tweet(tweet_id='1467855812', username='USERID_2', num_liked=4806, length=28),\n",
       " Tweet(tweet_id='1467855981', username='USERID_2', num_liked=6455, length=92),\n",
       " Tweet(tweet_id='1467856044', username='USERID_7', num_liked=1442, length=49),\n",
       " Tweet(tweet_id='1467856352', username='USERID_3', num_liked=523, length=20),\n",
       " Tweet(tweet_id='1467856426', username='USERID_6', num_liked=8675, length=99),\n",
       " Tweet(tweet_id='1467856497', username='USERID_7', num_liked=3105, length=79),\n",
       " Tweet(tweet_id='1467856632', username='USERID_1', num_liked=1724, length=43),\n",
       " Tweet(tweet_id='1467856821', username='USERID_6', num_liked=5145, length=80),\n",
       " Tweet(tweet_id='1467856919', username='USERID_4', num_liked=3887, length=61),\n",
       " Tweet(tweet_id='1467857221', username='USERID_5', num_liked=3589, length=102),\n",
       " Tweet(tweet_id='1467857297', username='USERID_1', num_liked=736, length=70),\n",
       " Tweet(tweet_id='1467857378', username='USERID_4', num_liked=9459, length=81),\n",
       " Tweet(tweet_id='1467857511', username='USERID_7', num_liked=3713, length=127),\n",
       " Tweet(tweet_id='1467857722', username='USERID_8', num_liked=9072, length=55),\n",
       " Tweet(tweet_id='1467857975', username='USERID_9', num_liked=4893, length=21),\n",
       " Tweet(tweet_id='1467858363', username='USERID_10', num_liked=4263, length=119),\n",
       " Tweet(tweet_id='1467858627', username='USERID_3', num_liked=8400, length=120),\n",
       " Tweet(tweet_id='1467858869', username='USERID_10', num_liked=1609, length=48),\n",
       " Tweet(tweet_id='1467859025', username='USERID_4', num_liked=5618, length=81),\n",
       " Tweet(tweet_id='1467859066', username='USERID_9', num_liked=99, length=53),\n",
       " Tweet(tweet_id='1467859408', username='USERID_5', num_liked=2878, length=128),\n",
       " Tweet(tweet_id='1467859436', username='USERID_7', num_liked=8001, length=67),\n",
       " Tweet(tweet_id='1467859558', username='USERID_1', num_liked=8732, length=136),\n",
       " Tweet(tweet_id='1467859666', username='USERID_9', num_liked=9158, length=16),\n",
       " Tweet(tweet_id='1467859820', username='USERID_10', num_liked=7921, length=27),\n",
       " Tweet(tweet_id='1467859922', username='USERID_6', num_liked=3955, length=120),\n",
       " Tweet(tweet_id='1467860895', username='USERID_1', num_liked=2055, length=18),\n",
       " Tweet(tweet_id='1467860904', username='USERID_7', num_liked=9851, length=30),\n",
       " Tweet(tweet_id='1467861095', username='USERID_10', num_liked=7191, length=38),\n",
       " Tweet(tweet_id='1467861522', username='USERID_1', num_liked=2742, length=70),\n",
       " Tweet(tweet_id='1467861571', username='USERID_1', num_liked=7095, length=84),\n",
       " Tweet(tweet_id='1467862213', username='USERID_2', num_liked=2455, length=138),\n",
       " Tweet(tweet_id='1467862313', username='USERID_10', num_liked=3256, length=127),\n",
       " Tweet(tweet_id='1467862355', username='USERID_3', num_liked=4110, length=53)]"
      ]
     },
     "execution_count": 12,
     "metadata": {},
     "output_type": "execute_result"
    }
   ],
   "source": [
    "#q8\n",
    "csv_to_list('full_data\\\\1.csv')"
   ]
  },
  {
   "cell_type": "code",
   "execution_count": 13,
   "metadata": {},
   "outputs": [
    {
     "data": {
      "text/plain": [
       "[Tweet(tweet_id='1467876711', username='USERID_10', num_liked=1117, length=84),\n",
       " Tweet(tweet_id='1467877496', username='USERID_1', num_liked=2062, length=106),\n",
       " Tweet(tweet_id='1467877833', username='USERID_2', num_liked=4270, length=89),\n",
       " Tweet(tweet_id='1467877865', username='USERID_1', num_liked=5899, length=30),\n",
       " Tweet(tweet_id='1467878057', username='USERID_6', num_liked=703, length=42),\n",
       " Tweet(tweet_id='1467878557', username='USERID_6', num_liked=5814, length=61),\n",
       " Tweet(tweet_id='1467878633', username='USERID_2', num_liked=2351, length=33),\n",
       " Tweet(tweet_id='1467878971', username='USERID_2', num_liked=2238, length=27),\n",
       " Tweet(tweet_id='1467878983', username='USERID_8', num_liked=4860, length=61),\n",
       " Tweet(tweet_id='1467879480', username='USERID_4', num_liked=1345, length=97),\n",
       " Tweet(tweet_id='1467879984', username='USERID_2', num_liked=3694, length=69),\n",
       " Tweet(tweet_id='1467880085', username='USERID_4', num_liked=2478, length=120),\n",
       " Tweet(tweet_id='1467880431', username='USERID_3', num_liked=9407, length=85),\n",
       " Tweet(tweet_id='1467880442', username='USERID_2', num_liked=5125, length=96),\n",
       " Tweet(tweet_id='1467880463', username='USERID_9', num_liked=1226, length=29),\n",
       " Tweet(tweet_id='1467880692', username='USERID_6', num_liked=4989, length=49),\n",
       " Tweet(tweet_id='1467881131', username='USERID_10', num_liked=732, length=107),\n",
       " Tweet(tweet_id='1467881373', username='USERID_6', num_liked=8615, length=145),\n",
       " Tweet(tweet_id='1467881376', username='USERID_4', num_liked=4378, length=49),\n",
       " Tweet(tweet_id='1467881457', username='USERID_7', num_liked=119, length=27),\n",
       " Tweet(tweet_id='1467881686', username='USERID_5', num_liked=8136, length=46),\n",
       " Tweet(tweet_id='1467881809', username='USERID_4', num_liked=1797, length=138),\n",
       " Tweet(tweet_id='1467881897', username='USERID_5', num_liked=2314, length=76),\n",
       " Tweet(tweet_id='1467881920', username='USERID_3', num_liked=4101, length=112),\n",
       " Tweet(tweet_id='1467882140', username='USERID_8', num_liked=5320, length=137),\n",
       " Tweet(tweet_id='1467882491', username='USERID_10', num_liked=3512, length=55),\n",
       " Tweet(tweet_id='1467882592', username='USERID_10', num_liked=1887, length=67),\n",
       " Tweet(tweet_id='1467882902', username='USERID_3', num_liked=4646, length=48),\n",
       " Tweet(tweet_id='1467888679', username='USERID_8', num_liked=3089, length=27),\n",
       " Tweet(tweet_id='1467888732', username='USERID_7', num_liked=2800, length=48),\n",
       " Tweet(tweet_id='1467888953', username='USERID_3', num_liked=3951, length=46),\n",
       " Tweet(tweet_id='1467889231', username='USERID_5', num_liked=1320, length=79),\n",
       " Tweet(tweet_id='1467889334', username='USERID_5', num_liked=8495, length=42),\n",
       " Tweet(tweet_id='1467889574', username='USERID_1', num_liked=4696, length=123),\n",
       " Tweet(tweet_id='1467889791', username='USERID_5', num_liked=4027, length=132),\n",
       " Tweet(tweet_id='1467889988', username='USERID_2', num_liked=7394, length=51),\n",
       " Tweet(tweet_id='1467890079', username='USERID_8', num_liked=2556, length=38),\n",
       " Tweet(tweet_id='1467890222', username='USERID_2', num_liked=227, length=107),\n",
       " Tweet(tweet_id='1467890723', username='USERID_1', num_liked=96, length=134),\n",
       " Tweet(tweet_id='1467891826', username='USERID_9', num_liked=2021, length=113),\n",
       " Tweet(tweet_id='1467891880', username='USERID_7', num_liked=6847, length=96),\n",
       " Tweet(tweet_id='1467892075', username='USERID_6', num_liked=2816, length=124),\n",
       " Tweet(tweet_id='1467892515', username='USERID_5', num_liked=917, length=39),\n",
       " Tweet(tweet_id='1467892667', username='USERID_2', num_liked=8270, length=20),\n",
       " Tweet(tweet_id='1467892720', username='USERID_3', num_liked=3227, length=128)]"
      ]
     },
     "execution_count": 13,
     "metadata": {},
     "output_type": "execute_result"
    }
   ],
   "source": [
    "#q9\n",
    "csv_to_list('full_data\\\\2.csv')"
   ]
  },
  {
   "cell_type": "code",
   "execution_count": 14,
   "metadata": {},
   "outputs": [],
   "source": [
    "def json_to_list(path):\n",
    "    file=open(path, encoding=\"utf-8\")\n",
    "    oops=[]\n",
    "    try:\n",
    "        tweets=json.load(file) \n",
    "    except:\n",
    "        return oops\n",
    "    file.close()\n",
    "    tlist=[]\n",
    "   # keys = [*tweets.keys()]\n",
    "    #data_dict = [*tweets.values()]\n",
    "    #print(keys)\n",
    "    #print(data_dict)\n",
    "    for tweet in tweets:\n",
    "        tweet_id = tweet\n",
    "        dicts= tweets[tweet_id]\n",
    "        username=str(dicts[\"username\"])\n",
    "        num_liked=dicts[\"num_liked\"]\n",
    "        try:\n",
    "            num_liked=int(num_liked)\n",
    "        except:\n",
    "            num_liked=num_liked.lower()\n",
    "            if num_liked.endswith(\"m\"):\n",
    "                num_liked=num_liked.replace(\"m\", \"\")\n",
    "                num_liked=int(num_liked)*1000000\n",
    "            elif num_liked.endswith(\"k\"):\n",
    "                num_liked=num_liked.replace(\"k\", \"\")\n",
    "                num_liked=int(num_liked)*1000\n",
    "            else:\n",
    "                num_liked=0\n",
    "        length=int(len(dicts[\"tweet_text\"]))\n",
    "        tlist.append(Tweet(tweet_id, username, num_liked, length))\n",
    "    return tlist"
   ]
  },
  {
   "cell_type": "code",
   "execution_count": 15,
   "metadata": {},
   "outputs": [
    {
     "data": {
      "text/plain": [
       "[Tweet(tweet_id='1467810369', username='USERID_4', num_liked=315, length=115),\n",
       " Tweet(tweet_id='1467810672', username='USERID_8', num_liked=5298, length=111),\n",
       " Tweet(tweet_id='1467810917', username='USERID_8', num_liked=533, length=89),\n",
       " Tweet(tweet_id='1467811184', username='USERID_6', num_liked=2650, length=47),\n",
       " Tweet(tweet_id='1467811193', username='USERID_8', num_liked=2101, length=111)]"
      ]
     },
     "execution_count": 15,
     "metadata": {},
     "output_type": "execute_result"
    }
   ],
   "source": [
    "#q10\n",
    "json_to_list('sample_data\\\\1.json')"
   ]
  },
  {
   "cell_type": "code",
   "execution_count": 16,
   "metadata": {},
   "outputs": [
    {
     "data": {
      "text/plain": [
       "[Tweet(tweet_id='1467812416', username='USERID_9', num_liked=5278, length=43),\n",
       " Tweet(tweet_id='1467812579', username='USERID_1', num_liked=9700, length=26),\n",
       " Tweet(tweet_id='1467812723', username='USERID_3', num_liked=5414, length=94),\n",
       " Tweet(tweet_id='1467812771', username='USERID_8', num_liked=2190, length=77),\n",
       " Tweet(tweet_id='1467812784', username='USERID_10', num_liked=2667, length=117)]"
      ]
     },
     "execution_count": 16,
     "metadata": {},
     "output_type": "execute_result"
    }
   ],
   "source": [
    "#q11\n",
    "json_to_list('sample_data\\\\2.json')"
   ]
  },
  {
   "cell_type": "code",
   "execution_count": 17,
   "metadata": {},
   "outputs": [
    {
     "data": {
      "text/plain": [
       "[Tweet(tweet_id='1467944581', username='USERID_1', num_liked=7216, length=131),\n",
       " Tweet(tweet_id='1467944654', username='USERID_7', num_liked=2838, length=59),\n",
       " Tweet(tweet_id='1467944871', username='USERID_1', num_liked=9393, length=51),\n",
       " Tweet(tweet_id='1467945476', username='USERID_10', num_liked=9246, length=33),\n",
       " Tweet(tweet_id='1467945704', username='USERID_1', num_liked=526, length=62),\n",
       " Tweet(tweet_id='1467945787', username='USERID_9', num_liked=8850, length=81),\n",
       " Tweet(tweet_id='1467945885', username='USERID_4', num_liked=9403, length=67),\n",
       " Tweet(tweet_id='1467946026', username='USERID_1', num_liked=2861, length=69),\n",
       " Tweet(tweet_id='1467946137', username='USERID_1', num_liked=5470, length=135),\n",
       " Tweet(tweet_id='1467946559', username='USERID_6', num_liked=987, length=116),\n",
       " Tweet(tweet_id='1467946592', username='USERID_3', num_liked=9085, length=137),\n",
       " Tweet(tweet_id='1467946749', username='USERID_4', num_liked=3381, length=42),\n",
       " Tweet(tweet_id='1467946810', username='USERID_4', num_liked=5338, length=62),\n",
       " Tweet(tweet_id='1467947005', username='USERID_7', num_liked=6974, length=53),\n",
       " Tweet(tweet_id='1467947104', username='USERID_6', num_liked=5847, length=24),\n",
       " Tweet(tweet_id='1467947557', username='USERID_9', num_liked=8449, length=110),\n",
       " Tweet(tweet_id='1467947713', username='USERID_7', num_liked=7444, length=140),\n",
       " Tweet(tweet_id='1467947913', username='USERID_2', num_liked=8578, length=36),\n",
       " Tweet(tweet_id='1467948169', username='USERID_1', num_liked=4545, length=33),\n",
       " Tweet(tweet_id='1467948434', username='USERID_9', num_liked=770, length=53),\n",
       " Tweet(tweet_id='1467948521', username='USERID_4', num_liked=8276, length=100),\n",
       " Tweet(tweet_id='1467948526', username='USERID_3', num_liked=7010, length=64),\n",
       " Tweet(tweet_id='1467948979', username='USERID_10', num_liked=9209, length=93),\n",
       " Tweet(tweet_id='1467949047', username='USERID_3', num_liked=7231, length=30),\n",
       " Tweet(tweet_id='1467949516', username='USERID_3', num_liked=4787, length=104),\n",
       " Tweet(tweet_id='1467949681', username='USERID_5', num_liked=5318, length=36),\n",
       " Tweet(tweet_id='1467949746', username='USERID_8', num_liked=4383, length=8),\n",
       " Tweet(tweet_id='1467949969', username='USERID_3', num_liked=1177, length=80),\n",
       " Tweet(tweet_id='1467950027', username='USERID_10', num_liked=8575, length=26),\n",
       " Tweet(tweet_id='1467950029', username='USERID_1', num_liked=7362, length=119),\n",
       " Tweet(tweet_id='1467950217', username='USERID_7', num_liked=1241, length=63),\n",
       " Tweet(tweet_id='1467950510', username='USERID_7', num_liked=5002, length=34),\n",
       " Tweet(tweet_id='1467950588', username='USERID_4', num_liked=589, length=63),\n",
       " Tweet(tweet_id='1467950600', username='USERID_3', num_liked=5951, length=71),\n",
       " Tweet(tweet_id='1467950649', username='USERID_7', num_liked=9449, length=46),\n",
       " Tweet(tweet_id='1467950687', username='USERID_3', num_liked=3464, length=70),\n",
       " Tweet(tweet_id='1467950866', username='USERID_4', num_liked=122, length=27),\n",
       " Tweet(tweet_id='1467950975', username='USERID_3', num_liked=6793, length=74),\n",
       " Tweet(tweet_id='1467951016', username='USERID_5', num_liked=7795, length=80),\n",
       " Tweet(tweet_id='1467951035', username='USERID_9', num_liked=3477, length=114),\n",
       " Tweet(tweet_id='1467951252', username='USERID_2', num_liked=7515, length=48),\n",
       " Tweet(tweet_id='1467951422', username='USERID_6', num_liked=2520, length=98),\n",
       " Tweet(tweet_id='1467951568', username='USERID_8', num_liked=39, length=98),\n",
       " Tweet(tweet_id='1467951850', username='USERID_8', num_liked=1170, length=29),\n",
       " Tweet(tweet_id='1467951931', username='USERID_4', num_liked=5320, length=81),\n",
       " Tweet(tweet_id='1467952069', username='USERID_7', num_liked=399, length=24),\n",
       " Tweet(tweet_id='1467952100', username='USERID_1', num_liked=2754, length=69),\n",
       " Tweet(tweet_id='1467952123', username='USERID_9', num_liked=9222, length=137),\n",
       " Tweet(tweet_id='1467952985', username='USERID_4', num_liked=6256, length=118),\n",
       " Tweet(tweet_id='1467953090', username='USERID_2', num_liked=1896, length=64)]"
      ]
     },
     "execution_count": 17,
     "metadata": {},
     "output_type": "execute_result"
    }
   ],
   "source": [
    "#q12\n",
    "json_to_list('full_data\\\\5.json')"
   ]
  },
  {
   "cell_type": "code",
   "execution_count": 18,
   "metadata": {},
   "outputs": [
    {
     "data": {
      "text/plain": [
       "[]"
      ]
     },
     "execution_count": 18,
     "metadata": {},
     "output_type": "execute_result"
    }
   ],
   "source": [
    "#q13\n",
    "json_to_list('full_data\\\\1.json')"
   ]
  },
  {
   "cell_type": "code",
   "execution_count": 19,
   "metadata": {},
   "outputs": [],
   "source": [
    "def find_key(folder, key):\n",
    "    lists=os.listdir(folder)\n",
    "    the_path=False\n",
    "    for file in lists:\n",
    "        path=os.path.join(folder, file)\n",
    "        if path.endswith(\".csv\"):\n",
    "            tweets=csv_to_list(path)\n",
    "        else:\n",
    "            tweets=json_to_list(path)\n",
    "        for tweet in tweets:\n",
    "            ids=tweet.tweet_id\n",
    "            #print(ids)\n",
    "            if ids==key:\n",
    "                the_path=path\n",
    "    try:\n",
    "        return the_path\n",
    "    except:\n",
    "        return the_path"
   ]
  },
  {
   "cell_type": "code",
   "execution_count": 20,
   "metadata": {},
   "outputs": [
    {
     "data": {
      "text/plain": [
       "'sample_data\\\\2.csv'"
      ]
     },
     "execution_count": 20,
     "metadata": {},
     "output_type": "execute_result"
    }
   ],
   "source": [
    "#q14\n",
    "find_key(\"sample_data\", '1467813137')"
   ]
  },
  {
   "cell_type": "code",
   "execution_count": 21,
   "metadata": {},
   "outputs": [
    {
     "data": {
      "text/plain": [
       "False"
      ]
     },
     "execution_count": 21,
     "metadata": {},
     "output_type": "execute_result"
    }
   ],
   "source": [
    "#q15\n",
    "find_key(\"full_data\", '1467862937')"
   ]
  },
  {
   "cell_type": "code",
   "execution_count": 22,
   "metadata": {},
   "outputs": [
    {
     "data": {
      "text/plain": [
       "'full_data\\\\3.csv'"
      ]
     },
     "execution_count": 22,
     "metadata": {},
     "output_type": "execute_result"
    }
   ],
   "source": [
    "#q16\n",
    "find_key(\"full_data\", '1467907751')"
   ]
  },
  {
   "cell_type": "code",
   "execution_count": 23,
   "metadata": {},
   "outputs": [],
   "source": [
    "def find_user(folder, user):\n",
    "    lists=os.listdir(folder)\n",
    "    the_path=[]\n",
    "    for file in lists:\n",
    "        path=os.path.join(folder, file)\n",
    "        if path.endswith(\".csv\"):\n",
    "            tweets=csv_to_list(path)\n",
    "        else:\n",
    "            tweets=json_to_list(path)\n",
    "        for tweet in tweets:\n",
    "            ids=tweet.username\n",
    "            if ids==user:\n",
    "                the_path.append(path)\n",
    "    the_path=list(set(the_path))\n",
    "    the_pathslist=sorted(the_path, reverse=True)\n",
    "    return the_pathslist"
   ]
  },
  {
   "cell_type": "code",
   "execution_count": 24,
   "metadata": {},
   "outputs": [
    {
     "data": {
      "text/plain": [
       "['sample_data\\\\2.json', 'sample_data\\\\2.csv', 'sample_data\\\\1.csv']"
      ]
     },
     "execution_count": 24,
     "metadata": {},
     "output_type": "execute_result"
    }
   ],
   "source": [
    "#q17\n",
    "find_user(\"sample_data\",  \"USERID_1\")"
   ]
  },
  {
   "cell_type": "code",
   "execution_count": 25,
   "metadata": {},
   "outputs": [],
   "source": [
    "from operator import attrgetter\n",
    "def whats_in_dir(folder):\n",
    "    lists=os.listdir(folder)\n",
    "    tweets=[]\n",
    "    for file in lists:\n",
    "        path=os.path.join(folder, file)\n",
    "        if path.endswith(\".csv\"):\n",
    "            tweet=(csv_to_list(path))\n",
    "            #tweets.append(tweet)\n",
    "        else:\n",
    "            tweet=(json_to_list(path))\n",
    "            \n",
    "        tweets+=tweet\n",
    "        #tweets=sorted(tweets, key=lambda named_tup:named_tup.tweet_id)\n",
    "        tweets = sorted(tweets, key = attrgetter('tweet_id'))\n",
    "            \n",
    "    return tweets"
   ]
  },
  {
   "cell_type": "code",
   "execution_count": 26,
   "metadata": {},
   "outputs": [
    {
     "data": {
      "text/plain": [
       "[Tweet(tweet_id='1467810369', username='USERID_4', num_liked=315, length=115),\n",
       " Tweet(tweet_id='1467810672', username='USERID_8', num_liked=5298, length=111),\n",
       " Tweet(tweet_id='1467810917', username='USERID_8', num_liked=533, length=89),\n",
       " Tweet(tweet_id='1467811184', username='USERID_6', num_liked=2650, length=47),\n",
       " Tweet(tweet_id='1467811193', username='USERID_8', num_liked=2101, length=111),\n",
       " Tweet(tweet_id='1467811372', username='USERID_6', num_liked=5882, length=29),\n",
       " Tweet(tweet_id='1467811592', username='USERID_8', num_liked=2676, length=11),\n",
       " Tweet(tweet_id='1467811594', username='USERID_9', num_liked=2182, length=99),\n",
       " Tweet(tweet_id='1467811795', username='USERID_1', num_liked=7791, length=36),\n",
       " Tweet(tweet_id='1467812025', username='USERID_1', num_liked=8149, length=25),\n",
       " Tweet(tweet_id='1467812416', username='USERID_9', num_liked=5278, length=43),\n",
       " Tweet(tweet_id='1467812579', username='USERID_1', num_liked=9700, length=26),\n",
       " Tweet(tweet_id='1467812723', username='USERID_3', num_liked=5414, length=94),\n",
       " Tweet(tweet_id='1467812771', username='USERID_8', num_liked=2190, length=77),\n",
       " Tweet(tweet_id='1467812784', username='USERID_10', num_liked=2667, length=117),\n",
       " Tweet(tweet_id='1467812799', username='USERID_7', num_liked=3340, length=103),\n",
       " Tweet(tweet_id='1467812964', username='USERID_10', num_liked=3684, length=93),\n",
       " Tweet(tweet_id='1467813137', username='USERID_5', num_liked=6816, length=20),\n",
       " Tweet(tweet_id='1467813579', username='USERID_1', num_liked=1348, length=64),\n",
       " Tweet(tweet_id='1467813782', username='USERID_1', num_liked=4770, length=79)]"
      ]
     },
     "execution_count": 26,
     "metadata": {},
     "output_type": "execute_result"
    }
   ],
   "source": [
    "#q18\n",
    "whats_in_dir(\"sample_data\")"
   ]
  },
  {
   "cell_type": "code",
   "execution_count": 27,
   "metadata": {},
   "outputs": [],
   "source": [
    "def whats_in_dirnum(folder):\n",
    "    lists=os.listdir(folder)\n",
    "    tweets=[]\n",
    "    for file in lists:\n",
    "        path=os.path.join(folder, file)\n",
    "        if path.endswith(\".csv\"):\n",
    "            tweet=(csv_to_list(path))\n",
    "            #tweets.append(tweet)\n",
    "        else:\n",
    "            tweet=(json_to_list(path))\n",
    "            \n",
    "        tweets+=tweet\n",
    "        #tweets=sorted(tweets, key=lambda named_tup : named_tup.num_liked, reverse=True)  \n",
    "        tweets = sorted(tweets, key = attrgetter('num_liked'), reverse = True)\n",
    " \n",
    "    return tweets"
   ]
  },
  {
   "cell_type": "code",
   "execution_count": 28,
   "metadata": {},
   "outputs": [
    {
     "data": {
      "text/plain": [
       "[Tweet(tweet_id='1467812579', username='USERID_1', num_liked=9700, length=26),\n",
       " Tweet(tweet_id='1467812025', username='USERID_1', num_liked=8149, length=25),\n",
       " Tweet(tweet_id='1467811795', username='USERID_1', num_liked=7791, length=36),\n",
       " Tweet(tweet_id='1467813137', username='USERID_5', num_liked=6816, length=20),\n",
       " Tweet(tweet_id='1467811372', username='USERID_6', num_liked=5882, length=29),\n",
       " Tweet(tweet_id='1467812723', username='USERID_3', num_liked=5414, length=94),\n",
       " Tweet(tweet_id='1467810672', username='USERID_8', num_liked=5298, length=111),\n",
       " Tweet(tweet_id='1467812416', username='USERID_9', num_liked=5278, length=43),\n",
       " Tweet(tweet_id='1467813782', username='USERID_1', num_liked=4770, length=79),\n",
       " Tweet(tweet_id='1467812964', username='USERID_10', num_liked=3684, length=93),\n",
       " Tweet(tweet_id='1467812799', username='USERID_7', num_liked=3340, length=103),\n",
       " Tweet(tweet_id='1467811592', username='USERID_8', num_liked=2676, length=11),\n",
       " Tweet(tweet_id='1467812784', username='USERID_10', num_liked=2667, length=117),\n",
       " Tweet(tweet_id='1467811184', username='USERID_6', num_liked=2650, length=47),\n",
       " Tweet(tweet_id='1467812771', username='USERID_8', num_liked=2190, length=77),\n",
       " Tweet(tweet_id='1467811594', username='USERID_9', num_liked=2182, length=99),\n",
       " Tweet(tweet_id='1467811193', username='USERID_8', num_liked=2101, length=111),\n",
       " Tweet(tweet_id='1467813579', username='USERID_1', num_liked=1348, length=64),\n",
       " Tweet(tweet_id='1467810917', username='USERID_8', num_liked=533, length=89),\n",
       " Tweet(tweet_id='1467810369', username='USERID_4', num_liked=315, length=115)]"
      ]
     },
     "execution_count": 28,
     "metadata": {},
     "output_type": "execute_result"
    }
   ],
   "source": [
    "#q19\n",
    "whats_in_dirnum(\"sample_data\")"
   ]
  },
  {
   "cell_type": "code",
   "execution_count": 29,
   "metadata": {},
   "outputs": [],
   "source": [
    "def whats_in_dirnum2(folder):\n",
    "    lists=os.listdir(folder)\n",
    "    tweets=[]\n",
    "    for file in lists:\n",
    "        path=os.path.join(folder, file)\n",
    "        if path.endswith(\".csv\"):\n",
    "            tweet=(csv_to_list(path))\n",
    "            #tweets.append(tweet)\n",
    "        else:\n",
    "            tweet=(json_to_list(path))\n",
    "        tweets+=tweet\n",
    "   # tweets=sorted(tweets, key=lambda named_tup : named_tup.num_liked, reverse=True) \n",
    "    tweets = sorted(tweets, key = attrgetter('num_liked'), reverse=True)\n",
    " \n",
    "    return tweets[:20]"
   ]
  },
  {
   "cell_type": "code",
   "execution_count": 30,
   "metadata": {},
   "outputs": [
    {
     "data": {
      "text/plain": [
       "[Tweet(tweet_id='1467894593', username='USERID_2', num_liked=869000000, length=136),\n",
       " Tweet(tweet_id='1467894600', username='USERID_8', num_liked=915000, length=67),\n",
       " Tweet(tweet_id='1467853431', username='USERID_10', num_liked=9936, length=30),\n",
       " Tweet(tweet_id='1467875163', username='USERID_2', num_liked=9891, length=69),\n",
       " Tweet(tweet_id='1467860904', username='USERID_7', num_liked=9851, length=30),\n",
       " Tweet(tweet_id='1467928014', username='USERID_7', num_liked=9830, length=18),\n",
       " Tweet(tweet_id='1467895048', username='USERID_10', num_liked=9822, length=136),\n",
       " Tweet(tweet_id='1467966646', username='USERID_7', num_liked=9821, length=47),\n",
       " Tweet(tweet_id='1467855673', username='USERID_9', num_liked=9728, length=72),\n",
       " Tweet(tweet_id='1467898078', username='USERID_10', num_liked=9705, length=104),\n",
       " Tweet(tweet_id='1467928300', username='USERID_9', num_liked=9681, length=79),\n",
       " Tweet(tweet_id='1467917177', username='USERID_3', num_liked=9678, length=105),\n",
       " Tweet(tweet_id='1467923235', username='USERID_9', num_liked=9662, length=134),\n",
       " Tweet(tweet_id='1467964211', username='USERID_4', num_liked=9618, length=79),\n",
       " Tweet(tweet_id='1467873980', username='USERID_5', num_liked=9608, length=88),\n",
       " Tweet(tweet_id='1467852067', username='USERID_4', num_liked=9594, length=34),\n",
       " Tweet(tweet_id='1467863633', username='USERID_9', num_liked=9549, length=95),\n",
       " Tweet(tweet_id='1467953733', username='USERID_4', num_liked=9526, length=67),\n",
       " Tweet(tweet_id='1467862806', username='USERID_2', num_liked=9465, length=68),\n",
       " Tweet(tweet_id='1467954070', username='USERID_8', num_liked=9462, length=64)]"
      ]
     },
     "execution_count": 30,
     "metadata": {},
     "output_type": "execute_result"
    }
   ],
   "source": [
    "#q20\n",
    "total = whats_in_dirnum2(\"full_data\")\n",
    "total "
   ]
  },
  {
   "cell_type": "code",
   "execution_count": 31,
   "metadata": {},
   "outputs": [
    {
     "data": {
      "text/plain": [
       "445"
      ]
     },
     "execution_count": 31,
     "metadata": {},
     "output_type": "execute_result"
    }
   ],
   "source": [
    "#q21\n",
    "total = whats_in_dir(\"full_data\")\n",
    "len(total)"
   ]
  },
  {
   "cell_type": "code",
   "execution_count": 32,
   "metadata": {},
   "outputs": [],
   "source": [
    "def whats_in_dir(folder):\n",
    "    lists=os.listdir(folder)\n",
    "    tweets=[]\n",
    "    for file in lists:\n",
    "        path=os.path.join(folder, file)\n",
    "        if path.endswith(\".csv\"):\n",
    "            tweet=(csv_to_list(path))\n",
    "            #tweets.append(tweet)\n",
    "        else:\n",
    "            tweet=(json_to_list(path))\n",
    "            \n",
    "        tweets+=tweet\n",
    "        #tweets=sorted(tweets, key=lambda x:x.tweet_id)\n",
    "        tweets = sorted(tweets, key = attrgetter('tweet_id'), reverse=True)\n",
    "            \n",
    "    return tweets\n",
    "\n",
    "\n",
    "\n",
    "\n",
    "def get_username2(folder):\n",
    "    lists = os.listdir(folder)\n",
    "    user_list =[]\n",
    "    for file in lists:\n",
    "        path=os.path.join(folder, file)\n",
    "        if path.endswith(\".csv\"):\n",
    "            tweets=csv_to_list(path)\n",
    "        else:\n",
    "            tweets=json_to_list(path)\n",
    "        for tweet in tweets:\n",
    "            user_names=tweet[1]\n",
    "            #print(user_names)\n",
    "            user_list.append(user_names)\n",
    "    return set(user_list)\n",
    "        "
   ]
  },
  {
   "cell_type": "code",
   "execution_count": 33,
   "metadata": {},
   "outputs": [
    {
     "data": {
      "text/plain": [
       "{'USERID_1',\n",
       " 'USERID_10',\n",
       " 'USERID_2',\n",
       " 'USERID_3',\n",
       " 'USERID_4',\n",
       " 'USERID_5',\n",
       " 'USERID_6',\n",
       " 'USERID_7',\n",
       " 'USERID_8',\n",
       " 'USERID_9'}"
      ]
     },
     "execution_count": 33,
     "metadata": {},
     "output_type": "execute_result"
    }
   ],
   "source": [
    "#q22\n",
    "total_user = get_username2(\"full_data\")\n",
    "total_user"
   ]
  },
  {
   "cell_type": "code",
   "execution_count": 34,
   "metadata": {},
   "outputs": [],
   "source": [
    "def prolific_user(folder):\n",
    "    lists = os.listdir(folder)\n",
    "    user_list =[]\n",
    "    pro_dict ={}\n",
    "    for file in lists:\n",
    "        path=os.path.join(folder, file)\n",
    "        if path.endswith(\".csv\"):\n",
    "            tweets=csv_to_list(path)\n",
    "        else:\n",
    "            tweets=json_to_list(path)\n",
    "        for tweet in tweets:\n",
    "            user_names=tweet[1]\n",
    "            #print(user_names)\n",
    "            user_list.append(user_names)\n",
    "            if user_names not in pro_dict:\n",
    "                pro_dict[user_names] = 1\n",
    "            else:\n",
    "                pro_dict[user_names] += 1\n",
    "    return pro_dict\n",
    "   \n",
    "    "
   ]
  },
  {
   "cell_type": "code",
   "execution_count": 35,
   "metadata": {},
   "outputs": [
    {
     "data": {
      "text/plain": [
       "{'USERID_9': 44,\n",
       " 'USERID_3': 39,\n",
       " 'USERID_4': 35,\n",
       " 'USERID_8': 31,\n",
       " 'USERID_2': 47,\n",
       " 'USERID_10': 45,\n",
       " 'USERID_1': 52,\n",
       " 'USERID_7': 55,\n",
       " 'USERID_6': 51,\n",
       " 'USERID_5': 46}"
      ]
     },
     "execution_count": 35,
     "metadata": {},
     "output_type": "execute_result"
    }
   ],
   "source": [
    "#q23\n",
    "num_of_tweets = prolific_user(\"full_data\") #returns dictionary with number of tweets per user \n",
    "num_of_tweets"
   ]
  },
  {
   "cell_type": "code",
   "execution_count": 36,
   "metadata": {},
   "outputs": [],
   "source": [
    "\n",
    "\n",
    "def avg_likes(path):\n",
    "    list_tweets = whats_in_dir(path)\n",
    "    avg_tlikes = {}\n",
    "    for tweet in list_tweets:\n",
    "        usernames = tweet.username\n",
    "        likes = tweet.num_liked\n",
    "        if usernames not in avg_tlikes:\n",
    "            avg_tlikes[usernames] = likes\n",
    "        else:\n",
    "            avg_tlikes[usernames] +=likes\n",
    "   \n",
    "    num_likes = avg_tlikes\n",
    "    num_tweets = prolific_user(path)\n",
    "    avg_likes_tweet = {key:float(num_likes[key]/ num_tweets[key]) for key in num_tweets} #list comp \n",
    "    avg_likes_tweet\n",
    "    return avg_likes_tweet \n",
    "        "
   ]
  },
  {
   "cell_type": "code",
   "execution_count": 37,
   "metadata": {},
   "outputs": [
    {
     "data": {
      "text/plain": [
       "{'USERID_9': 5334.386363636364,\n",
       " 'USERID_3': 5023.820512820513,\n",
       " 'USERID_4': 4578.8,\n",
       " 'USERID_8': 34463.45161290323,\n",
       " 'USERID_2': 18494258.80851064,\n",
       " 'USERID_10': 5728.777777777777,\n",
       " 'USERID_1': 4369.115384615385,\n",
       " 'USERID_7': 5079.436363636363,\n",
       " 'USERID_6': 4559.588235294118,\n",
       " 'USERID_5': 4583.130434782609}"
      ]
     },
     "execution_count": 37,
     "metadata": {},
     "output_type": "execute_result"
    }
   ],
   "source": [
    "#q24\n",
    "avg_num_likes = avg_likes(\"full_data\") # returns avg_likes_tweet dictionary \n",
    "avg_num_likes"
   ]
  },
  {
   "cell_type": "code",
   "execution_count": 38,
   "metadata": {},
   "outputs": [],
   "source": [
    "def avg_len(path):\n",
    "    list_tweets = whats_in_dir(path)\n",
    "    avg_tlen = {}\n",
    "    for tweet in list_tweets:\n",
    "        usernames = tweet.username\n",
    "        length = tweet.length\n",
    "        if usernames not in avg_tlen:\n",
    "            avg_tlen[usernames] = length\n",
    "        else:\n",
    "            avg_tlen[usernames] +=length\n",
    "\n",
    "    tweet_length = avg_tlen\n",
    "    num_tweets = prolific_user(path)\n",
    "    avg_length= {key:float(tweet_length[key]/ num_tweets[key]) for key in num_tweets} #list comp \n",
    "    avg_length\n",
    "    \n",
    "    return avg_length"
   ]
  },
  {
   "cell_type": "code",
   "execution_count": 39,
   "metadata": {},
   "outputs": [
    {
     "data": {
      "text/plain": [
       "{'USERID_9': 78.36363636363636,\n",
       " 'USERID_3': 67.15384615384616,\n",
       " 'USERID_4': 73.91428571428571,\n",
       " 'USERID_8': 73.96774193548387,\n",
       " 'USERID_2': 79.51063829787235,\n",
       " 'USERID_10': 72.71111111111111,\n",
       " 'USERID_1': 81.86538461538461,\n",
       " 'USERID_7': 72.96363636363637,\n",
       " 'USERID_6': 73.68627450980392,\n",
       " 'USERID_5': 73.69565217391305}"
      ]
     },
     "execution_count": 39,
     "metadata": {},
     "output_type": "execute_result"
    }
   ],
   "source": [
    "#q25\n",
    "avg_length = avg_len(\"full_data\") #returns avg_length dictionary \n",
    "avg_length"
   ]
  },
  {
   "cell_type": "code",
   "execution_count": 40,
   "metadata": {},
   "outputs": [],
   "source": [
    "%matplotlib inline"
   ]
  },
  {
   "cell_type": "code",
   "execution_count": 41,
   "metadata": {},
   "outputs": [],
   "source": [
    "import pandas as pd\n",
    "\n",
    "def scatter(x, y, xlabel=\"please label me!\", ylabel=\"please label me!\"):\n",
    "    df = pd.DataFrame({\"x\":x, \"y\":y})\n",
    "    ax = df.plot.scatter(x=\"x\", y=\"y\", color=\"black\", fontsize=16, xlim=0, ylim=0)\n",
    "    ax.set_xlabel(xlabel, fontsize=16)\n",
    "    ax.set_ylabel(ylabel, fontsize=16)\n",
    "    ax.get_xaxis().get_major_formatter().set_scientific(False)\n",
    "    ax.get_yaxis().get_major_formatter().set_scientific(False)"
   ]
  },
  {
   "cell_type": "code",
   "execution_count": 42,
   "metadata": {},
   "outputs": [
    {
     "data": {
      "image/png": "[encoded data removed]",
      "text/plain": [
       "<Figure size 432x288 with 1 Axes>"
      ]
     },
     "metadata": {
      "needs_background": "light"
     },
     "output_type": "display_data"
    }
   ],
   "source": [
    "#q26\n",
    "scatter(num_of_tweets, avg_length, xlabel = \"Number of Tweets\", ylabel = \"Average length\")"
   ]
  },
  {
   "cell_type": "code",
   "execution_count": 43,
   "metadata": {},
   "outputs": [
    {
     "data": {
      "image/png": "[encoded data removed]",
      "text/plain": [
       "<Figure size 432x288 with 1 Axes>"
      ]
     },
     "metadata": {
      "needs_background": "light"
     },
     "output_type": "display_data"
    }
   ],
   "source": [
    "#q27\n",
    "scatter(num_of_tweets, avg_num_likes, xlabel = \"Number of Tweets\", ylabel = \"Average likes\")"
   ]
  },
  {
   "cell_type": "code",
   "execution_count": 44,
   "metadata": {},
   "outputs": [
    {
     "data": {
      "image/png": "[encoded data removed]",
      "text/plain": [
       "<Figure size 432x288 with 1 Axes>"
      ]
     },
     "metadata": {
      "needs_background": "light"
     },
     "output_type": "display_data"
    }
   ],
   "source": [
    "#q28\n",
    "scatter(avg_length, avg_num_likes, xlabel = \"Average length\", ylabel = \"Average likes\")"
   ]
  },
  {
   "cell_type": "code",
   "execution_count": 45,
   "metadata": {},
   "outputs": [
    {
     "data": {
      "text/plain": [
       "'USERID_2'"
      ]
     },
     "execution_count": 45,
     "metadata": {},
     "output_type": "execute_result"
    }
   ],
   "source": [
    "#q29\n",
    "# sort dictionary of avg likes per tweet, find max key \n",
    "max(avg_num_likes, key = avg_num_likes.get)"
   ]
  },
  {
   "cell_type": "code",
   "execution_count": 46,
   "metadata": {},
   "outputs": [],
   "source": [
    "def top_tweets(username, path):\n",
    "    list_tweets = whats_in_dir(path)\n",
    "    top_tweetsl = []\n",
    "    for tweet in list_tweets:\n",
    "        user_name = username\n",
    "        if user_name == tweet.username:\n",
    "            top_tweetsl.append(tweet)\n",
    "        else:\n",
    "            continue\n",
    "    #sorted_list = sorted(top_tweetsl, key=lambda x:x.num_liked, reverse=True)\n",
    "    sorted_list = sorted(top_tweetsl, key = attrgetter('num_liked'), reverse=True)\n",
    "    return sorted_list\n",
    "        \n",
    "        \n",
    "    "
   ]
  },
  {
   "cell_type": "code",
   "execution_count": 47,
   "metadata": {},
   "outputs": [
    {
     "data": {
      "text/plain": [
       "[Tweet(tweet_id='1467894593', username='USERID_2', num_liked=869000000, length=136),\n",
       " Tweet(tweet_id='1467875163', username='USERID_2', num_liked=9891, length=69),\n",
       " Tweet(tweet_id='1467862806', username='USERID_2', num_liked=9465, length=68),\n",
       " Tweet(tweet_id='1467907751', username='USERID_2', num_liked=9048, length=110),\n",
       " Tweet(tweet_id='1467928764', username='USERID_2', num_liked=9026, length=41),\n",
       " Tweet(tweet_id='1467943007', username='USERID_2', num_liked=9000, length=130),\n",
       " Tweet(tweet_id='1467918682', username='USERID_2', num_liked=8884, length=102),\n",
       " Tweet(tweet_id='1467935121', username='USERID_2', num_liked=8740, length=37),\n",
       " Tweet(tweet_id='1467947913', username='USERID_2', num_liked=8578, length=36),\n",
       " Tweet(tweet_id='1467892667', username='USERID_2', num_liked=8270, length=20),\n",
       " Tweet(tweet_id='1467897316', username='USERID_2', num_liked=7890, length=64),\n",
       " Tweet(tweet_id='1467854917', username='USERID_2', num_liked=7741, length=30),\n",
       " Tweet(tweet_id='1467961106', username='USERID_2', num_liked=7552, length=65),\n",
       " Tweet(tweet_id='1467951252', username='USERID_2', num_liked=7515, length=48),\n",
       " Tweet(tweet_id='1467889988', username='USERID_2', num_liked=7394, length=51),\n",
       " Tweet(tweet_id='1467916959', username='USERID_2', num_liked=7081, length=69),\n",
       " Tweet(tweet_id='1467874916', username='USERID_2', num_liked=6935, length=23),\n",
       " Tweet(tweet_id='1467855981', username='USERID_2', num_liked=6455, length=92),\n",
       " Tweet(tweet_id='1467872247', username='USERID_2', num_liked=6316, length=137),\n",
       " Tweet(tweet_id='1467918850', username='USERID_2', num_liked=5383, length=103),\n",
       " Tweet(tweet_id='1467919055', username='USERID_2', num_liked=5370, length=68),\n",
       " Tweet(tweet_id='1467915670', username='USERID_2', num_liked=5287, length=138),\n",
       " Tweet(tweet_id='1467880442', username='USERID_2', num_liked=5125, length=96),\n",
       " Tweet(tweet_id='1467896253', username='USERID_2', num_liked=4906, length=91),\n",
       " Tweet(tweet_id='1467962897', username='USERID_2', num_liked=4898, length=98),\n",
       " Tweet(tweet_id='1467855812', username='USERID_2', num_liked=4806, length=28),\n",
       " Tweet(tweet_id='1467930220', username='USERID_2', num_liked=4770, length=94),\n",
       " Tweet(tweet_id='1467852031', username='USERID_2', num_liked=4565, length=63),\n",
       " Tweet(tweet_id='1467905378', username='USERID_2', num_liked=4420, length=111),\n",
       " Tweet(tweet_id='1467877833', username='USERID_2', num_liked=4270, length=89),\n",
       " Tweet(tweet_id='1467870866', username='USERID_2', num_liked=4166, length=82),\n",
       " Tweet(tweet_id='1467879984', username='USERID_2', num_liked=3694, length=69),\n",
       " Tweet(tweet_id='1467898511', username='USERID_2', num_liked=3477, length=99),\n",
       " Tweet(tweet_id='1467926632', username='USERID_2', num_liked=2602, length=98),\n",
       " Tweet(tweet_id='1467862213', username='USERID_2', num_liked=2455, length=138),\n",
       " Tweet(tweet_id='1467878633', username='USERID_2', num_liked=2351, length=33),\n",
       " Tweet(tweet_id='1467878971', username='USERID_2', num_liked=2238, length=27),\n",
       " Tweet(tweet_id='1467953090', username='USERID_2', num_liked=1896, length=64),\n",
       " Tweet(tweet_id='1467908798', username='USERID_2', num_liked=1659, length=51),\n",
       " Tweet(tweet_id='1467918015', username='USERID_2', num_liked=1508, length=97),\n",
       " Tweet(tweet_id='1467926444', username='USERID_2', num_liked=1394, length=61),\n",
       " Tweet(tweet_id='1467914499', username='USERID_2', num_liked=910, length=138),\n",
       " Tweet(tweet_id='1467968584', username='USERID_2', num_liked=777, length=132),\n",
       " Tweet(tweet_id='1467933102', username='USERID_2', num_liked=625, length=135),\n",
       " Tweet(tweet_id='1467953277', username='USERID_2', num_liked=494, length=31),\n",
       " Tweet(tweet_id='1467890222', username='USERID_2', num_liked=227, length=107),\n",
       " Tweet(tweet_id='1467871956', username='USERID_2', num_liked=110, length=68)]"
      ]
     },
     "execution_count": 47,
     "metadata": {},
     "output_type": "execute_result"
    }
   ],
   "source": [
    "#q30\n",
    "top_tweets('USERID_2',\"full_data\")"
   ]
  },
  {
   "cell_type": "code",
   "execution_count": 48,
   "metadata": {},
   "outputs": [],
   "source": [
    "def big_d_avg(username, path):\n",
    "    list_top = top_tweets(username,path)\n",
    "    x_outlier =[]               # list of likes excluding outlier                         \n",
    "    for tweet in list_top:\n",
    "        p = tweet.num_liked\n",
    "        x_outlier.append(p)\n",
    "    likes_sum = sum(x_outlier)\n",
    "    top_to_best_tweet = x_outlier[0] / likes_sum    \n",
    "    \n",
    "    return top_to_best_tweet *100\n",
    "    \n",
    "    "
   ]
  },
  {
   "cell_type": "code",
   "execution_count": 49,
   "metadata": {},
   "outputs": [
    {
     "data": {
      "text/plain": [
       "99.97352093731529"
      ]
     },
     "execution_count": 49,
     "metadata": {},
     "output_type": "execute_result"
    }
   ],
   "source": [
    "#q31\n",
    "big_d_avg('USERID_2',\"full_data\")"
   ]
  },
  {
   "cell_type": "code",
   "execution_count": 50,
   "metadata": {},
   "outputs": [],
   "source": [
    "def x_out_avg(username, path):\n",
    "    list_top = top_tweets(username,path)\n",
    "    x_outlier =[]               # list of likes excluding outlier                         \n",
    "    for tweet in list_top:\n",
    "        p = tweet.num_liked\n",
    "        x_outlier.append(p)\n",
    "    no_outlier = x_outlier[1:]\n",
    "    #print(no_outlier)\n",
    "    likes_sum = sum(no_outlier)\n",
    "    no_outlier_sum = likes_sum / len(no_outlier)   \n",
    "    return no_outlier_sum"
   ]
  },
  {
   "cell_type": "code",
   "execution_count": 51,
   "metadata": {},
   "outputs": [
    {
     "data": {
      "text/plain": [
       "5003.565217391304"
      ]
     },
     "execution_count": 51,
     "metadata": {},
     "output_type": "execute_result"
    }
   ],
   "source": [
    "#q32\n",
    "x_out_avg('USERID_2',\"full_data\")"
   ]
  },
  {
   "cell_type": "code",
   "execution_count": 52,
   "metadata": {},
   "outputs": [],
   "source": [
    "def findFiles(path):\n",
    "    files = []\n",
    "    if os.path.isfile(path): #base case\n",
    "        return files.append(path)\n",
    "    for item in os.listdir(path):\n",
    "        item = os.path.join(path, item)\n",
    "        if os.path.isfile(item):\n",
    "            files.append(item)\n",
    "        else:\n",
    "            rec = findFiles(item)\n",
    "            files += rec\n",
    "            \n",
    "    fileslist=sorted(files, reverse=True) #reverse list, check method \n",
    "    return fileslist\n",
    "\n",
    "\n",
    "def list_things(path):\n",
    "    lists = os.listdir(path)\n",
    "    return lists"
   ]
  },
  {
   "cell_type": "code",
   "execution_count": 53,
   "metadata": {},
   "outputs": [
    {
     "data": {
      "text/plain": [
       "['play\\\\rb\\\\rb9\\\\89.csv', 'play\\\\rb\\\\rb9\\\\12.xls']"
      ]
     },
     "execution_count": 53,
     "metadata": {},
     "output_type": "execute_result"
    }
   ],
   "source": [
    "#q33\n",
    "findFiles(os.path.join(\"play\", \"rb\", \"rb9\"))"
   ]
  },
  {
   "cell_type": "code",
   "execution_count": 54,
   "metadata": {},
   "outputs": [
    {
     "data": {
      "text/plain": [
       "['play\\\\ls\\\\qwe\\\\usun.pdf',\n",
       " 'play\\\\ls\\\\qwe\\\\iuqwe.json',\n",
       " 'play\\\\ls\\\\mf.py',\n",
       " 'play\\\\ls\\\\lu.txt']"
      ]
     },
     "execution_count": 54,
     "metadata": {},
     "output_type": "execute_result"
    }
   ],
   "source": [
    "#q34\n",
    "findFiles(os.path.join(\"play\", \"ls\"))"
   ]
  },
  {
   "cell_type": "code",
   "execution_count": 55,
   "metadata": {},
   "outputs": [
    {
     "data": {
      "text/plain": [
       "['play\\\\ou\\\\v',\n",
       " 'play\\\\ou\\\\quap\\\\uikwe',\n",
       " 'play\\\\ou\\\\quap\\\\qonxu.txt',\n",
       " 'play\\\\ou\\\\quap\\\\aoq\\\\qsonj',\n",
       " 'play\\\\ou\\\\quap\\\\aoq\\\\aqnsa',\n",
       " 'play\\\\ou\\\\b',\n",
       " 'play\\\\ou\\\\a']"
      ]
     },
     "execution_count": 55,
     "metadata": {},
     "output_type": "execute_result"
    }
   ],
   "source": [
    "#q35\n",
    "findFiles(os.path.join(\"play\", \"ou\"))"
   ]
  },
  {
   "cell_type": "code",
   "execution_count": 56,
   "metadata": {},
   "outputs": [
    {
     "data": {
      "text/plain": [
       "['play\\\\rb\\\\rb9\\\\89.csv',\n",
       " 'play\\\\rb\\\\rb9\\\\12.xls',\n",
       " 'play\\\\rb\\\\ppt.ppt',\n",
       " 'play\\\\ou\\\\v',\n",
       " 'play\\\\ou\\\\quap\\\\uikwe',\n",
       " 'play\\\\ou\\\\quap\\\\qonxu.txt',\n",
       " 'play\\\\ou\\\\quap\\\\aoq\\\\qsonj',\n",
       " 'play\\\\ou\\\\quap\\\\aoq\\\\aqnsa',\n",
       " 'play\\\\ou\\\\b',\n",
       " 'play\\\\ou\\\\a',\n",
       " 'play\\\\ls\\\\qwe\\\\usun.pdf',\n",
       " 'play\\\\ls\\\\qwe\\\\iuqwe.json',\n",
       " 'play\\\\ls\\\\mf.py',\n",
       " 'play\\\\ls\\\\lu.txt']"
      ]
     },
     "execution_count": 56,
     "metadata": {},
     "output_type": "execute_result"
    }
   ],
   "source": [
    "#q36\n",
    "findFiles(\"play\")"
   ]
  },
  {
   "cell_type": "code",
   "execution_count": 57,
   "metadata": {},
   "outputs": [
    {
     "data": {
      "text/plain": [
       "['recursive\\\\others\\\\USERID_9.json',\n",
       " 'recursive\\\\others\\\\USERID_8.json',\n",
       " 'recursive\\\\others\\\\USERID_7.json',\n",
       " 'recursive\\\\others\\\\USERID_6.json',\n",
       " 'recursive\\\\others\\\\USERID_5.json',\n",
       " 'recursive\\\\others\\\\USERID_10.json']"
      ]
     },
     "execution_count": 57,
     "metadata": {},
     "output_type": "execute_result"
    }
   ],
   "source": [
    "#q37\n",
    "findFiles(os.path.join(\"recursive\", \"others\")) "
   ]
  },
  {
   "cell_type": "code",
   "execution_count": 58,
   "metadata": {},
   "outputs": [
    {
     "data": {
      "text/plain": [
       "['recursive\\\\others\\\\USERID_9.json',\n",
       " 'recursive\\\\others\\\\USERID_8.json',\n",
       " 'recursive\\\\others\\\\USERID_7.json',\n",
       " 'recursive\\\\others\\\\USERID_6.json',\n",
       " 'recursive\\\\others\\\\USERID_5.json',\n",
       " 'recursive\\\\others\\\\USERID_10.json',\n",
       " 'recursive\\\\USERID_4\\\\true\\\\tweets.json',\n",
       " 'recursive\\\\USERID_4\\\\false\\\\tweets.json',\n",
       " 'recursive\\\\USERID_3\\\\tweets.json',\n",
       " 'recursive\\\\USERID_2\\\\tweets.json',\n",
       " 'recursive\\\\USERID_1\\\\tweets.json']"
      ]
     },
     "execution_count": 58,
     "metadata": {},
     "output_type": "execute_result"
    }
   ],
   "source": [
    "#q38\n",
    "recursivedir= findFiles(\"recursive\")\n",
    "recursivedir"
   ]
  },
  {
   "cell_type": "code",
   "execution_count": 59,
   "metadata": {},
   "outputs": [],
   "source": [
    "\n",
    "userid_4dir=findFiles(os.path.join(\"recursive\", \"USERID_4\"))\n",
    "def tweet_count(files):\n",
    "    count=0\n",
    "    for file in files:\n",
    "        #print(file)\n",
    "        if file.endswith(\"csv\"):\n",
    "            clist=csv_to_list(file)\n",
    "            #print(clist)\n",
    "            count+=len(csv)\n",
    "        else:\n",
    "            jlist=json_to_list(file)\n",
    "            \n",
    "            count+=len(jlist)\n",
    "    return count"
   ]
  },
  {
   "cell_type": "code",
   "execution_count": 60,
   "metadata": {},
   "outputs": [
    {
     "data": {
      "text/plain": [
       "17"
      ]
     },
     "execution_count": 60,
     "metadata": {},
     "output_type": "execute_result"
    }
   ],
   "source": [
    "#q39\n",
    "tweet_count(userid_4dir)"
   ]
  },
  {
   "cell_type": "code",
   "execution_count": 61,
   "metadata": {},
   "outputs": [
    {
     "data": {
      "text/plain": [
       "200"
      ]
     },
     "execution_count": 61,
     "metadata": {},
     "output_type": "execute_result"
    }
   ],
   "source": [
    "#q40\n",
    "tweet_count(recursivedir)"
   ]
  },
  {
   "cell_type": "code",
   "execution_count": null,
   "metadata": {},
   "outputs": [],
   "source": []
  }
 ],
 "metadata": {
  "kernelspec": {
   "display_name": "Python 3",
   "language": "python",
   "name": "python3"
  },
  "language_info": {
   "codemirror_mode": {
    "name": "ipython",
    "version": 3
   },
   "file_extension": ".py",
   "mimetype": "text/x-python",
   "name": "python",
   "nbconvert_exporter": "python",
   "pygments_lexer": "ipython3",
   "version": "3.7.2"
  }
 },
 "nbformat": 4,
 "nbformat_minor": 2
}
