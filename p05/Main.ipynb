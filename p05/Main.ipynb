{
 "cells": [
  {
   "cell_type": "code",
   "execution_count": 1,
   "metadata": {},
   "outputs": [],
   "source": [
    "# project: p5\n",
    "# submitter-netid: awelper\n",
    "# partner-netid: ajshedivy"
   ]
  },
  {
   "cell_type": "code",
   "execution_count": 2,
   "metadata": {},
   "outputs": [
    {
     "data": {
      "text/plain": [
       "['__builtins__',\n",
       " '__cached__',\n",
       " '__doc__',\n",
       " '__file__',\n",
       " '__hurricane__',\n",
       " '__init__',\n",
       " '__loader__',\n",
       " '__name__',\n",
       " '__package__',\n",
       " '__spec__',\n",
       " 'count',\n",
       " 'get_damage',\n",
       " 'get_deaths',\n",
       " 'get_mph',\n",
       " 'get_name',\n",
       " 'get_year']"
      ]
     },
     "execution_count": 2,
     "metadata": {},
     "output_type": "execute_result"
    }
   ],
   "source": [
    "import project\n",
    "dir(project)"
   ]
  },
  {
   "cell_type": "code",
   "execution_count": 3,
   "metadata": {},
   "outputs": [
    {
     "data": {
      "text/plain": [
       "111"
      ]
     },
     "execution_count": 3,
     "metadata": {},
     "output_type": "execute_result"
    }
   ],
   "source": [
    "#q1\n",
    "project.count()"
   ]
  },
  {
   "cell_type": "code",
   "execution_count": 4,
   "metadata": {},
   "outputs": [
    {
     "data": {
      "text/plain": [
       "'Baker'"
      ]
     },
     "execution_count": 4,
     "metadata": {},
     "output_type": "execute_result"
    }
   ],
   "source": [
    "#q2\n",
    "project.get_name(0)"
   ]
  },
  {
   "cell_type": "code",
   "execution_count": 5,
   "metadata": {},
   "outputs": [
    {
     "data": {
      "text/plain": [
       "1"
      ]
     },
     "execution_count": 5,
     "metadata": {},
     "output_type": "execute_result"
    }
   ],
   "source": [
    "#q3\n",
    "project.get_deaths(110)"
   ]
  },
  {
   "cell_type": "code",
   "execution_count": 57,
   "metadata": {},
   "outputs": [],
   "source": [
    "def get_money(i):\n",
    "    damage=project.get_damage(i)\n",
    "    damage=str(damage)\n",
    "    if damage.endswith('B'): \n",
    "        new_damage1 = damage.replace('B','')\n",
    "        new_damage1 = float(new_damage1)\n",
    "        return print(float(new_damage1)*1000000000)\n",
    "    elif damage.endswith('K'):\n",
    "        new_damage2 = damage.replace('K', '')\n",
    "        ne_damage2 = float(new_damage2)\n",
    "        return print(float(new_damage2)*1000)\n",
    "    elif damage.endswith(\"M\"):\n",
    "        new_damage3 = damage.replace('M','')\n",
    "        new_damage3 = float(new_damage3)\n",
    "        return print(float(new_damage3)*1000000)\n",
    "    else:\n",
    "        return print(float(damage))"
   ]
  },
  {
   "cell_type": "code",
   "execution_count": 61,
   "metadata": {},
   "outputs": [
    {
     "data": {
      "text/plain": [
       "1430000000.0"
      ]
     },
     "execution_count": 61,
     "metadata": {},
     "output_type": "execute_result"
    }
   ],
   "source": [
    "#q4\n",
    "get_money(1)"
   ]
  },
  {
   "cell_type": "code",
   "execution_count": 8,
   "metadata": {},
   "outputs": [
    {
     "name": "stdout",
     "output_type": "stream",
     "text": [
      "Baker\n",
      "Camille\n",
      "Eloise\n",
      "Frederic\n",
      "Elena\n",
      "Danny\n",
      "Ivan\n",
      "Dennis\n",
      "Katrina\n",
      "Michael\n",
      "Carol\n",
      "Donna\n",
      "Gloria\n",
      "Bob\n",
      "Easy\n",
      "King\n",
      "Flossy\n"
     ]
    }
   ],
   "source": [
    "#q5\n",
    "for i in range(project.count()):\n",
    "    name=project.get_name(i)\n",
    "    print(project.get_name(i))\n",
    "    if name==\"Flossy\":\n",
    "        break\n",
    "    else: \n",
    "        continue"
   ]
  },
  {
   "cell_type": "code",
   "execution_count": 9,
   "metadata": {},
   "outputs": [
    {
     "name": "stdout",
     "output_type": "stream",
     "text": [
      "2\n"
     ]
    }
   ],
   "source": [
    "#q6\n",
    "import project\n",
    "number=0\n",
    "for i in range(project.count()):\n",
    "    name=project.get_name(i)\n",
    "    name=name.lower().strip()\n",
    "    if name==\"floyd\":\n",
    "        number+=1\n",
    "    else:\n",
    "        continue\n",
    "print(number)"
   ]
  },
  {
   "cell_type": "code",
   "execution_count": 10,
   "metadata": {},
   "outputs": [
    {
     "name": "stdout",
     "output_type": "stream",
     "text": [
      "13129\n"
     ]
    }
   ],
   "source": [
    "#q7\n",
    "total=0\n",
    "for i in range(project.count()):\n",
    "    deaths=project.get_deaths(i)\n",
    "    total+=deaths\n",
    "print(total)"
   ]
  },
  {
   "cell_type": "code",
   "execution_count": 60,
   "metadata": {},
   "outputs": [
    {
     "name": "stdout",
     "output_type": "stream",
     "text": [
      "792890014998.0\n"
     ]
    }
   ],
   "source": [
    "#q8\n",
    "def get_sum(i):\n",
    "    damage=project.get_damage(i)\n",
    "    damage=str(damage)\n",
    "    if damage.endswith('B'): \n",
    "        new_damage1 = damage.replace('B','')\n",
    "        new_damage1 = float(new_damage1)\n",
    "        return float(new_damage1)*1000000000\n",
    "    elif damage.endswith('K'):\n",
    "        new_damage2 = damage.replace('K', '')\n",
    "        ne_damage2 = float(new_damage2)\n",
    "        return float(new_damage2)*1000\n",
    "    elif damage.endswith(\"M\"):\n",
    "        new_damage3 = damage.replace('M','')\n",
    "        new_damage3 = float(new_damage3)\n",
    "        return float(new_damage3)*1000000\n",
    "    else:\n",
    "        return float(damage)\n",
    "total=0\n",
    "for i in range(project.count()):\n",
    "    money = get_sum(i)\n",
    "    total += money\n",
    "    \n",
    "    \n",
    "print(total)"
   ]
  },
  {
   "cell_type": "code",
   "execution_count": 12,
   "metadata": {},
   "outputs": [
    {
     "name": "stdout",
     "output_type": "stream",
     "text": [
      "190\n"
     ]
    }
   ],
   "source": [
    "#q9\n",
    "max_speed=0\n",
    "for i in range(project.count()):\n",
    "    speed=project.get_mph(i)\n",
    "    speed=int(speed)\n",
    "    if speed> max_speed:\n",
    "        max_speed=speed\n",
    "    else:\n",
    "        continue\n",
    "print(max_speed)"
   ]
  },
  {
   "cell_type": "code",
   "execution_count": 13,
   "metadata": {},
   "outputs": [
    {
     "name": "stdout",
     "output_type": "stream",
     "text": [
      "Allen\n"
     ]
    }
   ],
   "source": [
    "#q10\n",
    "max_speed=0\n",
    "for i in range(project.count()):\n",
    "    speed=project.get_mph(i)\n",
    "    speed=int(speed)\n",
    "    if speed> max_speed:\n",
    "        max_speed=speed\n",
    "        fastest=i\n",
    "    else:\n",
    "        continue\n",
    "print(project.get_name(fastest))"
   ]
  },
  {
   "cell_type": "code",
   "execution_count": 14,
   "metadata": {},
   "outputs": [
    {
     "name": "stdout",
     "output_type": "stream",
     "text": [
      "1980\n"
     ]
    }
   ],
   "source": [
    "#q11\n",
    "max_speed=0\n",
    "for i in range(project.count()):\n",
    "    speed=project.get_mph(i)\n",
    "    speed=int(speed)\n",
    "    if speed> max_speed:\n",
    "        max_speed=speed\n",
    "        fastest=i\n",
    "    else:\n",
    "        continue\n",
    "print(project.get_year(fastest))"
   ]
  },
  {
   "cell_type": "code",
   "execution_count": 15,
   "metadata": {},
   "outputs": [
    {
     "name": "stdout",
     "output_type": "stream",
     "text": [
      "75\n"
     ]
    }
   ],
   "source": [
    "#q12\n",
    "min_speed=190\n",
    "for i in range(project.count()):\n",
    "    speed=project.get_mph(i)\n",
    "    speed=int(speed)\n",
    "    if speed< min_speed:\n",
    "        min_speed=speed\n",
    "    else:\n",
    "        continue\n",
    "print(min_speed)"
   ]
  },
  {
   "cell_type": "code",
   "execution_count": 16,
   "metadata": {},
   "outputs": [],
   "source": [
    "# return name of deadliest hurricane over the given date range\n",
    "import project\n",
    "def worst_in_range(year1, year2):\n",
    "    worst_idx = 0\n",
    "    worst=0\n",
    "    for i in range(project.count()):\n",
    "        year=project.get_year(i)\n",
    "        if year>=int(year1) and year<=int(year2):\n",
    "            dead=project.get_deaths(i)\n",
    "            if dead> worst:\n",
    "                worst=dead\n",
    "                worst_idx=i\n",
    "            else:\n",
    "                continue\n",
    "        else:\n",
    "            continue\n",
    "    return project.get_name(worst_idx)"
   ]
  },
  {
   "cell_type": "code",
   "execution_count": 17,
   "metadata": {},
   "outputs": [
    {
     "name": "stdout",
     "output_type": "stream",
     "text": [
      "Maria\n"
     ]
    }
   ],
   "source": [
    "#q13\n",
    "print(worst_in_range(1900,2100))"
   ]
  },
  {
   "cell_type": "code",
   "execution_count": 18,
   "metadata": {},
   "outputs": [
    {
     "name": "stdout",
     "output_type": "stream",
     "text": [
      "Jeanne\n"
     ]
    }
   ],
   "source": [
    "#q14\n",
    "print(worst_in_range(1900, 2016))"
   ]
  },
  {
   "cell_type": "code",
   "execution_count": 19,
   "metadata": {},
   "outputs": [
    {
     "name": "stdout",
     "output_type": "stream",
     "text": [
      "Katrina\n"
     ]
    }
   ],
   "source": [
    "#q15\n",
    "print(worst_in_range(2005, 2016))"
   ]
  },
  {
   "cell_type": "code",
   "execution_count": 63,
   "metadata": {},
   "outputs": [],
   "source": [
    "def decade_deaths(decade):\n",
    "    total=0\n",
    "    for i in range(project.count()):\n",
    "        year=project.get_year(i)\n",
    "        year=year-year%10\n",
    "        if decade==year:\n",
    "            deaths=project.get_deaths(i)\n",
    "            total+=deaths\n",
    "        else:\n",
    "            continue\n",
    "    return total"
   ]
  },
  {
   "cell_type": "code",
   "execution_count": 65,
   "metadata": {},
   "outputs": [
    {
     "data": {
      "text/plain": [
       "4452"
      ]
     },
     "execution_count": 65,
     "metadata": {},
     "output_type": "execute_result"
    }
   ],
   "source": [
    "#q16\n",
    "decade_deaths(2010)"
   ]
  },
  {
   "cell_type": "code",
   "execution_count": 22,
   "metadata": {},
   "outputs": [
    {
     "data": {
      "text/plain": [
       "5580"
      ]
     },
     "execution_count": 22,
     "metadata": {},
     "output_type": "execute_result"
    }
   ],
   "source": [
    "#q17\n",
    "decade_deaths(2000)"
   ]
  },
  {
   "cell_type": "code",
   "execution_count": 23,
   "metadata": {},
   "outputs": [
    {
     "data": {
      "text/plain": [
       "996"
      ]
     },
     "execution_count": 23,
     "metadata": {},
     "output_type": "execute_result"
    }
   ],
   "source": [
    "#q18\n",
    "decade_deaths(1990)"
   ]
  },
  {
   "cell_type": "code",
   "execution_count": 24,
   "metadata": {},
   "outputs": [
    {
     "data": {
      "text/plain": [
       "483"
      ]
     },
     "execution_count": 24,
     "metadata": {},
     "output_type": "execute_result"
    }
   ],
   "source": [
    "#q19\n",
    "decade_deaths(1980)"
   ]
  },
  {
   "cell_type": "code",
   "execution_count": 62,
   "metadata": {},
   "outputs": [
    {
     "data": {
      "text/plain": [
       "0"
      ]
     },
     "execution_count": 62,
     "metadata": {},
     "output_type": "execute_result"
    }
   ],
   "source": [
    "# q20 \n",
    "def decade_deaths(decade):\n",
    "    total=0\n",
    "    for i in range(project.count()):\n",
    "        year=project.get_year(i)\n",
    "        year = year - year % 10\n",
    "        if decade==year:\n",
    "            deaths=project.get_deaths(i)\n",
    "            total+=deaths\n",
    "            \n",
    "        else:\n",
    "            continue\n",
    "    return total\n",
    "def worst_decade(decade_deaths):\n",
    "    "
   ]
  },
  {
   "cell_type": "code",
   "execution_count": 69,
   "metadata": {},
   "outputs": [
    {
     "name": "stdout",
     "output_type": "stream",
     "text": [
      "2000\n"
     ]
    }
   ],
   "source": []
  },
  {
   "cell_type": "code",
   "execution_count": 71,
   "metadata": {},
   "outputs": [
    {
     "data": {
      "text/plain": [
       "18"
      ]
     },
     "execution_count": 71,
     "metadata": {},
     "output_type": "execute_result"
    }
   ],
   "source": []
  },
  {
   "cell_type": "code",
   "execution_count": null,
   "metadata": {},
   "outputs": [],
   "source": []
  }
 ],
 "metadata": {
  "kernelspec": {
   "display_name": "Python 3",
   "language": "python",
   "name": "python3"
  },
  "language_info": {
   "codemirror_mode": {
    "name": "ipython",
    "version": 3
   },
   "file_extension": ".py",
   "mimetype": "text/x-python",
   "name": "python",
   "nbconvert_exporter": "python",
   "pygments_lexer": "ipython3",
   "version": "3.7.2"
  }
 },
 "nbformat": 4,
 "nbformat_minor": 2
}
